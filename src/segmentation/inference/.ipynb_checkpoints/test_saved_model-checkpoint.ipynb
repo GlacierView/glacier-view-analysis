{
 "cells": [
  {
   "cell_type": "markdown",
   "id": "fdbb5044",
   "metadata": {},
   "source": [
    "This notebook to test the results of a trained segmentation model. This notebook will apply the segmentation model to any GLIMS_ID and produce a list of segmentations."
   ]
  },
  {
   "cell_type": "code",
   "execution_count": null,
   "id": "04f81612",
   "metadata": {},
   "outputs": [],
   "source": [
    "import sys\n",
    "import os\n",
    "sys.path.insert(0, os.path.join(os.path.expanduser(\"~\"),\"Desktop\",\"projects\", \"GlacierView\", \"src\",\"segmentation\",\"helpers\"))\n",
    "\n",
    "import tensorflow as tf\n",
    "from tensorflow import keras\n",
    "import pandas as pd\n",
    "import numpy as np\n",
    "import read\n",
    "import preprocess\n",
    "import landsat_bands\n",
    "import matplotlib.pyplot as plt\n",
    "from skimage.filters import gaussian\n",
    "from datetime import datetime\n",
    "import imageio.v2 as imageio\n"
   ]
  },
  {
   "cell_type": "code",
   "execution_count": null,
   "id": "94ffdbc5",
   "metadata": {},
   "outputs": [],
   "source": [
    "#define inputs\n",
    "\n",
    "#glims_id = 'G006819E45785N' #lex blanche\n",
    "#glims_id = 'G007026E45991N' #trient\n",
    "glims_id = 'G086519E27919N'\n",
    "\n",
    "\n",
    "ee_data_dir = os.path.join(os.path.expanduser(\"~\"),\n",
    "    \"Desktop\", \"projects\",\"GlacierView\", \"src\", \"earth_engine\",\"data\",\"ee_landing_zone\",\"full_time_series\")\n",
    "landsat_dir = os.path.join(ee_data_dir, \"landsat\")\n",
    "dem_dir = os.path.join(ee_data_dir, \"dems\")\n",
    "\n",
    "glacier_dir = os.path.join(landsat_dir, glims_id)\n",
    "dem_path = os.path.join(dem_dir, f\"{glims_id}_NASADEM.tif\")"
   ]
  },
  {
   "cell_type": "code",
   "execution_count": null,
   "id": "42050280",
   "metadata": {},
   "outputs": [],
   "source": [
    "#read and preprocess data\n",
    "height, width = 128, 128\n",
    "\n",
    "images,image_file_names = read.get_rasters(glacier_dir)\n",
    "dem = [read.get_dem(dem_path)]\n",
    "\n",
    "images_common_bands, image_file_names = preprocess.get_common_bands_from_list_of_numpy_arrays(images,\n",
    "                                                                            [\n",
    "                                                                             'red',\n",
    "                                                                             'nir',\n",
    "                                                                             'swir',\n",
    "                                                                             ], \n",
    "                                                                            image_file_names)\n",
    "\n",
    "\n",
    "normalized_images = preprocess.normalize_rasters(images_common_bands)\n",
    "normalized_dem = preprocess.normalize_rasters(dem)\n",
    "\n",
    "resized_images = preprocess.resize_rasters(normalized_images, dim = (height,width))\n",
    "resized_dem = preprocess.resize_rasters(normalized_dem, dim = (height,width))\n",
    "\n",
    "combined_images_and_dems = [np.concatenate((img, resized_dem[0]),axis = 2) for img in resized_images]"
   ]
  },
  {
   "cell_type": "code",
   "execution_count": null,
   "id": "783786d0",
   "metadata": {},
   "outputs": [],
   "source": [
    "#match images with labels\n",
    "X_ordered = [x for _, x in sorted(zip(image_file_names, combined_images_and_dems))] \n",
    "X = np.stack(X_ordered)\n",
    "X_smoothed = gaussian(X, sigma = [20,0,0,0], mode = 'reflect')\n",
    "image_file_names_ordered = sorted(image_file_names) "
   ]
  },
  {
   "cell_type": "code",
   "execution_count": null,
   "id": "39c580c8",
   "metadata": {},
   "outputs": [],
   "source": [
    "#apply the saved model\n",
    "saved_models_dir = os.path.join(os.path.expanduser(\"~\"),\"Desktop\",\"projects\", \"GlacierView\", \"src\",\"segmentation\",\"saved_models\")\n",
    "saved_model_path = os.path.join(saved_models_dir, \"re_ni_sw_de_v1.h5\")\n",
    "\n",
    "model = keras.models.load_model(saved_model_path, compile = False)\n",
    "predictions = model.predict(X_smoothed)\n",
    "\n",
    "image_dates = [datetime.strptime(f.split(\"_\")[1],'%Y-%m-%d') for f in image_file_names_ordered]"
   ]
  },
  {
   "cell_type": "code",
   "execution_count": null,
   "id": "0d8cb1f4",
   "metadata": {},
   "outputs": [],
   "source": [
    "#create GIF\n",
    "gif_creation_dir = os.path.join(os.path.expanduser(\"~\"), \"Desktop\", \"projects\", \"GlacierView\", \"src\", \"segmentation\",\"tmp\",\"gif_creation\")\n",
    "gif_output_dir = os.path.join(os.path.expanduser(\"~\"), \"Desktop\", \"projects\", \"GlacierView\", \"src\", \"segmentation\", \"gifs\")\n",
    "\n",
    "for f in os.listdir(gif_creation_dir):\n",
    "    os.remove(os.path.join(gif_creation_dir, f))\n",
    "\n",
    "for i in range(predictions.shape[0]):\n",
    "    if i%5 == 0:\n",
    "        fig, axs = plt.subplots(2, figsize=(10,10))\n",
    "        fig.suptitle(image_file_names_ordered[i])\n",
    "        axs[0].imshow((X_smoothed[i,:,:,:][:,:,[2,1,0]]))\n",
    "        axs[1].imshow(predictions[i,:,:,:])\n",
    "\n",
    "        plt.savefig(os.path.join(gif_creation_dir,f'{image_file_names_ordered[i]}.png'), dpi = 100)\n",
    "        plt.show()\n",
    "\n",
    "with imageio.get_writer(os.path.join(gif_output_dir,f\"{glims_id}.gif\"), mode='I') as writer:\n",
    "    for filename in sorted(os.listdir(gif_creation_dir)):\n",
    "        image = imageio.imread(os.path.join(gif_creation_dir,filename))\n",
    "        writer.append_data(image)\n"
   ]
  },
  {
   "cell_type": "code",
   "execution_count": null,
   "id": "ac542f18",
   "metadata": {},
   "outputs": [],
   "source": [
    "#generate and save surface area time_series\n",
    "\n",
    "ts_output_dir = os.path.join(os.path.expanduser(\"~\"), \"Desktop\", \"projects\", \"GlacierView\", \"src\", \"segmentation\", \"surface_area_time_series\")\n",
    "total_areas = []\n",
    "for prediction in predictions:\n",
    "    total_areas.append(np.sqrt(np.sum(prediction)))\n",
    "plt.plot(image_dates, total_areas)\n",
    "plt.title(\"Estimated Surface Area (no units)\")\n",
    "plt.savefig(os.path.join(ts_output_dir, f\"{glims_id}.png\"))\n",
    "\n",
    "plt.show()"
   ]
  },
  {
   "cell_type": "code",
   "execution_count": null,
   "id": "ba06e86d",
   "metadata": {},
   "outputs": [],
   "source": [
    "import pickle\n",
    "with open('/Users/mattw/Desktop/projects/GlacierView/src/segmentation/training/data/training_data_pickles/mask_dict.pickle', 'rb') as f:\n",
    "    masks_dict = pickle.load(f)\n"
   ]
  },
  {
   "cell_type": "code",
   "execution_count": null,
   "id": "64536aed",
   "metadata": {},
   "outputs": [],
   "source": [
    "#view masks we have for full time series\n",
    "for mask in glims_ids[glims_ids.isin(masks_dict.keys())]:\n",
    "    plt.imshow(masks_dict[mask])\n",
    "    plt.title(mask)\n",
    "    print(mask)\n",
    "    plt.show()"
   ]
  }
 ],
 "metadata": {
  "kernelspec": {
   "display_name": "Python 3",
   "language": "python",
   "name": "python3"
  },
  "language_info": {
   "codemirror_mode": {
    "name": "ipython",
    "version": 3
   },
   "file_extension": ".py",
   "mimetype": "text/x-python",
   "name": "python",
   "nbconvert_exporter": "python",
   "pygments_lexer": "ipython3",
   "version": "3.8.12"
  }
 },
 "nbformat": 4,
 "nbformat_minor": 5
}
