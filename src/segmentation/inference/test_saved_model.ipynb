{
 "cells": [
  {
   "cell_type": "markdown",
   "id": "fdbb5044",
   "metadata": {},
   "source": [
    "This notebook to test the results of a trained segmentation model. This notebook will apply the segmentation model to any GLIMS_ID and produce a list of segmentations."
   ]
  },
  {
   "cell_type": "code",
   "execution_count": null,
   "id": "04f81612",
   "metadata": {},
   "outputs": [],
   "source": [
    "import sys\n",
    "import os\n",
    "sys.path.insert(0, os.path.join(os.path.expanduser(\"~\"),\"Desktop\",\"projects\", \"GlacierView\", \"src\",\"segmentation\",\"helpers\"))\n",
    "\n",
    "from tensorflow import keras\n",
    "import numpy as np\n",
    "import read\n",
    "import preprocess\n",
    "import matplotlib.pyplot as plt\n",
    "from skimage.filters import gaussian\n",
    "from datetime import datetime\n",
    "import imageio.v2 as imageio\n"
   ]
  },
  {
   "cell_type": "code",
   "execution_count": null,
   "id": "94ffdbc5",
   "metadata": {},
   "outputs": [],
   "source": [
    "#define inputs\n",
    "\n",
    "#glims_id = 'G006819E45785N' #lex blanche\n",
    "glims_id = 'G007026E45991N' #trient\n",
    "#glims_id = 'G086519E27919N'\n",
    "\n",
    "data_label = \"full_time_series\"\n",
    "ee_data_dir = os.path.join(os.path.expanduser(\"~\"),\n",
    "    \"Desktop\", \"projects\",\"GlacierView\", \"src\", \"earth_engine\",\"data\",\"ee_landing_zone\",data_label)\n",
    "dem_data_dir = os.path.join(os.path.expanduser(\"~\"),\n",
    "    \"Desktop\", \"projects\",\"GlacierView\", \"src\", \"earth_engine\",\"data\",\"ee_landing_zone\",\"full_time_series\")                         \n",
    "landsat_dir = os.path.join(ee_data_dir, \"landsat\")\n",
    "dem_dir = os.path.join(dem_data_dir, \"dems\")\n",
    "\n",
    "glacier_dir = os.path.join(landsat_dir, glims_id)\n",
    "dem_path = os.path.join(dem_dir, f\"{glims_id}_NASADEM.tif\")"
   ]
  },
  {
   "cell_type": "code",
   "execution_count": null,
   "id": "a06965e5",
   "metadata": {},
   "outputs": [],
   "source": [
    "common_bands = ['blue','green','red','nir','swir','thermal','swir_2']\n",
    "dim = (128,128)"
   ]
  },
  {
   "cell_type": "code",
   "execution_count": null,
   "id": "572ffe2b",
   "metadata": {},
   "outputs": [],
   "source": [
    "#read and preprocess images\n",
    "\n",
    "images = read.get_rasters(glacier_dir)\n",
    "\n",
    "sample_image_key = list(images.keys())[0]\n",
    "print(f\"Before preprocessing single image shape: {images[sample_image_key].shape}\")\n",
    "images = preprocess.get_common_bands(images,common_bands)\n",
    "images = preprocess.normalize_rasters(images)\n",
    "images = preprocess.resize_rasters(images,dim)\n",
    "print(f\"After preprocessing single image shape: {images[sample_image_key].shape}\")"
   ]
  },
  {
   "cell_type": "code",
   "execution_count": null,
   "id": "4c5401d1",
   "metadata": {},
   "outputs": [],
   "source": [
    "#read and preprocess dems\n",
    "\n",
    "dem = read.get_dem(dem_path)\n",
    "\n",
    "dem_key = list(dem.keys())[0]\n",
    "print(f\"Before preprocessing single dem shape: {dem[sample_dem_key].shape}\")\n",
    "dem = preprocess.resize_rasters(dem, dim)\n",
    "dem = preprocess.normalize_rasters(dem)\n",
    "print(f\"After preprocessing single dem shape: {dem[sample_dem_key].shape}\")"
   ]
  },
  {
   "cell_type": "code",
   "execution_count": null,
   "id": "9abe5fca",
   "metadata": {},
   "outputs": [],
   "source": [
    "combined_images_and_dems = [np.concatenate((images[file_name], dem[f\"{glims_id}_NASADEM.tif\"]),axis = 2) for file_name in sorted(images.keys())]"
   ]
  },
  {
   "cell_type": "code",
   "execution_count": null,
   "id": "783786d0",
   "metadata": {},
   "outputs": [],
   "source": [
    "#match images with labels\n",
    "X = np.stack(combined_images_and_dems)\n",
    "X_smoothed = gaussian(X, sigma = [20,0,0,0], mode = 'reflect')    0.94 0.92 0.99 0.83 0.84\n",
    "image_file_names_ordered = sorted(images.keys())\n",
    "image_dates = [datetime.strptime(f.split(\"_\")[1],'%Y-%m-%d') for f in image_file_names_ordered]"
   ]
  },
  {
   "cell_type": "code",
   "execution_count": null,
   "id": "39c580c8",
   "metadata": {},
   "outputs": [],
   "source": [
    "#apply the saved model\n",
    "saved_models_dir = os.path.join(os.path.expanduser(\"~\"),\"Desktop\",\"projects\", \"GlacierView\", \"src\",\"segmentation\",\"saved_models\")\n",
    "saved_model_path = os.path.join(saved_models_dir, \"re_ni_sw_de_v1.h5\")\n",
    "\n",
    "model = keras.models.load_model(saved_model_path, compile = False)\n",
    "#predictions = model.predict(X_smoothed)"
   ]
  },
  {
   "cell_type": "code",
   "execution_count": null,
   "id": "0d8cb1f4",
   "metadata": {},
   "outputs": [],
   "source": [
    "#create GIF\n",
    "gif_creation_dir = os.path.join(os.path.expanduser(\"~\"), \"Desktop\", \"projects\", \"GlacierView\", \"src\", \"segmentation\",\"tmp\",\"gif_creation\")\n",
    "gif_output_dir = os.path.join(os.path.expanduser(\"~\"), \"Desktop\", \"projects\", \"GlacierView\", \"src\", \"segmentation\", \"gifs\")\n",
    "\n",
    "for f in os.listdir(gif_creation_dir):\n",
    "    os.remove(os.path.join(gif_creation_dir, f))\n",
    "\n",
    "for i in range(X_smoothed.shape[0]):\n",
    "    if i%5 == 0: #ignores 80% of images to run faster\n",
    "        fig, axs = plt.subplots(1, figsize=(10,10)) ##update the number of suplots to equal the number of layers you want to display\n",
    "        fig.suptitle(image_file_names_ordered[i])\n",
    "        axs.imshow((X_smoothed[i,:,:,:][:,:,[2,1,0]]))\n",
    "        #axs[1].imshow(predictions[i,:,:,:])\n",
    "\n",
    "        plt.savefig(os.path.join(gif_creation_dir,f'{image_file_names_ordered[i]}.png'), dpi = 100)\n",
    "        plt.show()\n",
    "\n",
    "with imageio.get_writer(os.path.join(gif_output_dir,f\"{glims_id}.gif\"), mode='I') as writer:\n",
    "    for filename in sorted(os.listdir(gif_creation_dir)):\n",
    "        image = imageio.imread(os.path.join(gif_creation_dir,filename))\n",
    "        writer.append_data(image)\n"
   ]
  },
  {
   "cell_type": "code",
   "execution_count": null,
   "id": "ac542f18",
   "metadata": {},
   "outputs": [],
   "source": [
    "#generate and save surface area time_series\n",
    "\n",
    "ts_output_dir = os.path.join(os.path.expanduser(\"~\"), \"Desktop\", \"projects\", \"GlacierView\", \"src\", \"segmentation\", \"surface_area_time_series\")\n",
    "total_areas = []\n",
    "for prediction in predictions:\n",
    "    total_areas.append(np.sqrt(np.sum(prediction)))\n",
    "plt.plot(image_dates, total_areas)\n",
    "plt.title(\"Estimated Surface Area (no units)\")\n",
    "plt.savefig(os.path.join(ts_output_dir, f\"{glims_id}.png\"))\n",
    "\n",
    "plt.show()"
   ]
  }
 ],
 "metadata": {
  "kernelspec": {
   "display_name": "Python 3",
   "language": "python",
   "name": "python3"
  },
  "language_info": {
   "codemirror_mode": {
    "name": "ipython",
    "version": 3
   },
   "file_extension": ".py",
   "mimetype": "text/x-python",
   "name": "python",
   "nbconvert_exporter": "python",
   "pygments_lexer": "ipython3",
   "version": "3.8.12"
  }
 },
 "nbformat": 4,
 "nbformat_minor": 5
}
