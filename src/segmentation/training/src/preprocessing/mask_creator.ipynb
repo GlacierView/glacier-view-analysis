{
 "cells": [
  {
   "cell_type": "markdown",
   "id": "aed631d0",
   "metadata": {},
   "source": [
    "- For a given glacier...\n",
    "- ... We have a glacier outline as a polygon which is in lat-long\n",
    "- ... We have a several tifs (typically around 10) for a glacier. These are not guaranteed to share the same UTM zone.\n",
    "- ... To create the masks we need one tif from each glacier and the polygon"
   ]
  },
  {
   "cell_type": "code",
   "execution_count": null,
   "id": "b84806f4",
   "metadata": {},
   "outputs": [],
   "source": [
    "import os\n",
    "import sys\n",
    "sys.path.insert(0, os.path.join(os.path.expanduser(\"~\"),\"Desktop\",\"projects\", \"GlacierView\", \"src\",\"segmentation\",\"helpers\"))\n",
    "import read\n",
    "from tqdm import tqdm\n",
    "import pyproj\n",
    "import numpy as np\n",
    "import pandas as pd\n",
    "import geopandas as gpd\n",
    "import rasterio\n",
    "from rasterio.mask import mask\n",
    "import matplotlib.pyplot as plt\n",
    "from shapely.ops import transform\n",
    "import pickle\n",
    "from PIL import Image"
   ]
  },
  {
   "cell_type": "code",
   "execution_count": null,
   "id": "b2841f19",
   "metadata": {},
   "outputs": [],
   "source": [
    "data_label = \"localized_time_series_for_training_c02_t1_l2\"\n",
    "glacier_view_dir = os.path.join(os.path.expanduser(\"~\"),\"Desktop\",\"projects\",\"GlacierView\")\n",
    "meta_data_dir = os.path.join(glacier_view_dir, \"src\", \"earth_engine\", \"data\", \"processed_metadata\", data_label)\n",
    "image_attributes_path = os.path.join(meta_data_dir,\"image_attributes.csv\")\n",
    "glaciers_dir = os.path.join(glacier_view_dir,\"src\",\"earth_engine\",\"data\",\"ee_landing_zone\",data_label,\"landsat\")\n",
    "glims_ids = [f for f in os.listdir(glaciers_dir) if not f.startswith('.')]"
   ]
  },
  {
   "cell_type": "code",
   "execution_count": null,
   "id": "c333fdd2",
   "metadata": {},
   "outputs": [],
   "source": [
    "### create mapping of all glims ids to a CRS\n",
    "image_attributes_df = pd.read_csv(image_attributes_path)\n",
    "image_attributes_df['glims_id'] = image_attributes_df.file_name.str.split(\"_\").str[0]\n",
    "image_attributes_df.head()"
   ]
  },
  {
   "cell_type": "code",
   "execution_count": null,
   "id": "4d85e57f",
   "metadata": {},
   "outputs": [],
   "source": [
    "glims_id_crs_dict"
   ]
  },
  {
   "cell_type": "code",
   "execution_count": null,
   "id": "5bdf8ea5",
   "metadata": {},
   "outputs": [],
   "source": [
    "glims_id_crs_dict = {}\n",
    "for file_name, df in tqdm(image_attributes_df.groupby(\"file_name\")):\n",
    "    glims_id_crs_dict[file_name] = int(df.epsg_code.value_counts().index[0]) #most prevalant CRS"
   ]
  },
  {
   "cell_type": "code",
   "execution_count": null,
   "id": "ffd6670e",
   "metadata": {},
   "outputs": [],
   "source": [
    "available_attributes = set(image_attributes_df['glims_id'])\n",
    "polys_df.geometry.crs = \"epsg:4326\" #polys are in lat long\n",
    "reprojected_df = pd.DataFrame()\n",
    "#polys_df = polys_df[~polys_df['glac_id'].isin(reprojected_df['glac_id'])]\n",
    "for glims_id, df_small in tqdm(polys_df.groupby('glac_id')):\n",
    "    if glims_id not in available_attributes:\n",
    "        continue\n",
    "    selected_image_attributes = image_attributes_df[image_attributes_df['glims_id'] == glims_id].iloc[0]\n",
    "    crs = selected_image_attributes['epsg_code']\n",
    "    reprojected_df_small = df_small.to_crs(f'epsg:{crs}')\n",
    "    reprojected_df_small['file_name'] = selected_image_attributes['file_name']\n",
    "    reprojected_df = pd.concat((reprojected_df, reprojected_df_small))"
   ]
  },
  {
   "cell_type": "code",
   "execution_count": null,
   "id": "baa63ba3",
   "metadata": {},
   "outputs": [],
   "source": [
    "#obtain masks from polygons\n",
    "mask_dict = {}\n",
    "for idx, row in tqdm(reprojected_df.iterrows()):\n",
    "    glacier_dir = os.path.join(glaciers_dir, row.glac_id)\n",
    "    with rasterio.open(os.path.join(glacier_dir, row['file_name'])) as src:\n",
    "        masked_raster, _ = mask(src,[row.geometry], nodata = -999)\n",
    "        masked_raster = masked_raster[0]\n",
    "     #   masked_raster = np.rollaxis(masked_raster, 0,3)\n",
    "        masked_raster = np.where(masked_raster != -999, 1, masked_raster)\n",
    "        masked_raster = np.where(masked_raster == -999, 0, masked_raster)\n",
    "        mask_dict[row.glac_id] = masked_raster"
   ]
  },
  {
   "cell_type": "code",
   "execution_count": null,
   "id": "6d56e9a7",
   "metadata": {},
   "outputs": [],
   "source": [
    "masks_staging_dir = os.path.join(glacier_view_dir, \"src\",\"segmentation\", \"training\",\"data\",\"masks_staging_2\")\n",
    "for glims_id in mask_dict:\n",
    "    img_mask = mask_dict[glims_id]\n",
    "    im = Image.fromarray(img_mask)\n",
    "    im.save(os.path.join(masks_staging_dir,f\"{glims_id}.tif\"))"
   ]
  },
  {
   "cell_type": "code",
   "execution_count": null,
   "id": "84ff2b34",
   "metadata": {},
   "outputs": [],
   "source": []
  }
 ],
 "metadata": {
  "kernelspec": {
   "display_name": "Python 3",
   "language": "python",
   "name": "python3"
  },
  "language_info": {
   "codemirror_mode": {
    "name": "ipython",
    "version": 3
   },
   "file_extension": ".py",
   "mimetype": "text/x-python",
   "name": "python",
   "nbconvert_exporter": "python",
   "pygments_lexer": "ipython3",
   "version": "3.8.12"
  }
 },
 "nbformat": 4,
 "nbformat_minor": 5
}
