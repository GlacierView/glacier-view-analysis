{
 "cells": [
  {
   "cell_type": "code",
   "execution_count": 2,
   "id": "5e697c03",
   "metadata": {},
   "outputs": [],
   "source": [
    "import os"
   ]
  },
  {
   "cell_type": "code",
   "execution_count": 3,
   "id": "92b9b9e8",
   "metadata": {},
   "outputs": [],
   "source": [
    "data_label = \"localized_time_series_for_segmentation_training_large\"\n",
    "dem_label = \"NASADEM\"\n",
    "\n",
    "glacier_view_dir = os.path.join(os.path.expanduser(\"~\"),\"Desktop\",\"projects\",\"GlacierView\")\n",
    "ee_data_dir = os.path.join(glacier_view_dir, \"src\", \"earth_engine\",\"data\",\"ee_landing_zone\", data_label)\n",
    "processed_training_data = os.path.join(glacier_view_dir, \"src\",\"segmentation\",\"training\",\"data\",\"processed_training_data\")\n",
    "processed_images = os.path.join(processed_training_data, \"images\")\n",
    "processed_masks = os.path.join(processed_training_data, \"masks\")"
   ]
  },
  {
   "cell_type": "code",
   "execution_count": null,
   "id": "587ad801",
   "metadata": {},
   "outputs": [],
   "source": []
  }
 ],
 "metadata": {
  "kernelspec": {
   "display_name": "Python 3",
   "language": "python",
   "name": "python3"
  },
  "language_info": {
   "codemirror_mode": {
    "name": "ipython",
    "version": 3
   },
   "file_extension": ".py",
   "mimetype": "text/x-python",
   "name": "python",
   "nbconvert_exporter": "python",
   "pygments_lexer": "ipython3",
   "version": "3.8.12"
  }
 },
 "nbformat": 4,
 "nbformat_minor": 5
}
