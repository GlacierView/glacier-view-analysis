{
 "cells": [
  {
   "cell_type": "code",
   "execution_count": 1,
   "id": "unexpected-latitude",
   "metadata": {},
   "outputs": [
    {
     "data": {
      "text/plain": [
       "<module 'explore' from '/Users/mattw/Desktop/projects/GlacierView/src/segmentation/helpers/explore.py'>"
      ]
     },
     "execution_count": 1,
     "metadata": {},
     "output_type": "execute_result"
    }
   ],
   "source": [
    "import sys\n",
    "import os\n",
    "sys.path.insert(0, os.path.join(os.path.expanduser(\"~\"),\"Desktop\",\"projects\", \"GlacierView\",\n",
    "                                \"src\",\"segmentation\",\"helpers\"))\n",
    "import read, preprocess, explore\n",
    "\n",
    "\n",
    "import rasterio\n",
    "import pandas as pd\n",
    "\n",
    "import pickle\n",
    "\n",
    "import numpy as np\n",
    "import tifffile\n",
    "import geopandas as gpd\n",
    "import tensorflow as tf\n",
    "from datetime import date\n",
    "import matplotlib.pyplot as plt\n",
    "from sklearn.model_selection import train_test_split\n",
    "from PIL import Image\n",
    "\n",
    "import importlib\n",
    "importlib.reload(read)\n",
    "importlib.reload(preprocess)\n",
    "importlib.reload(explore)"
   ]
  },
  {
   "cell_type": "markdown",
   "id": "immediate-birmingham",
   "metadata": {},
   "source": [
    "# TRAINING"
   ]
  },
  {
   "cell_type": "code",
   "execution_count": null,
   "id": "422ca19b",
   "metadata": {},
   "outputs": [],
   "source": [
    "data_label = \"localized_time_series_for_segmentation_training_large\"\n",
    "dem_label = \"NASADEM\"\n",
    "\n",
    "glacier_view_dir = os.path.join(os.path.expanduser(\"~\"),\"Desktop\",\"projects\",\"GlacierView\")\n",
    "ee_data_dir = os.path.join(glacier_view_dir, \"src\", \"earth_engine\",\"data\",\"ee_landing_zone\", data_label)\n",
    "\n",
    "landsat_dir = os.path.join(ee_data_dir, \"landsat\")\n",
    "glims_ids = os.listdir(landsat_dir)\n",
    "glims_ids = [id for id in glims_ids if len(id) == 14]\n",
    "\n",
    "dem_dir = os.path.join(ee_data_dir, \"dems\")\n",
    "\n",
    "masks_dir = os.path.join(glacier_view_dir, \"src\",\"segmentation\",\"training\",\"data\",\"masks_staging\")\n",
    "\n",
    "common_bands = ['blue','green','red','nir','swir','thermal','swir_2']\n",
    "dim = (128,128)\n",
    "\n",
    "processed_training_data = os.path.join(glacier_view_dir, \"src\",\"segmentation\",\"training\",\"data\",\"processed_training_data\")\n",
    "images_write_path = os.path.join(processed_training_data, \"images\")\n",
    "masks_write_path = os.path.join(processed_training_data, \"masks\")\n",
    "\n",
    "percentile = 50\n"
   ]
  },
  {
   "cell_type": "code",
   "execution_count": null,
   "id": "polyphonic-grenada",
   "metadata": {},
   "outputs": [],
   "source": [
    "for i, glims_id in enumerate(glims_ids):\n",
    "    print(i)\n",
    "    images = {}\n",
    "    dems = {}\n",
    "    masks = {}\n",
    "\n",
    "\n",
    "    images[glims_id] = read.get_rasters(os.path.join(landsat_dir,glims_id))\n",
    "    dems[glims_id] = read.get_dem(os.path.join(dem_dir,glims_id + '_' + dem_label + '.tif'))\n",
    "\n",
    "    images[glims_id] = preprocess.get_common_bands(images[glims_id],common_bands)\n",
    "    images[glims_id] = preprocess.normalize_rasters(images[glims_id])\n",
    "    images[glims_id] = preprocess.resize_rasters(images[glims_id],dim)\n",
    "\n",
    "    dems[glims_id] = preprocess.resize_rasters(dems[glims_id], dim)\n",
    "    dems[glims_id] = preprocess.normalize_rasters(dems[glims_id])\n",
    "\n",
    "    mask_file_name = f\"{glims_id}.tif\"\n",
    "    try:\n",
    "        img = Image.open(os.path.join(masks_dir, mask_file_name))\n",
    "    except FileNotFoundError:\n",
    "        continue\n",
    "    masks[glims_id] = {mask_file_name: np.expand_dims(np.array(img),2)}\n",
    "    masks[glims_id] = preprocess.resize_rasters(masks[glims_id], dim)\n",
    "\n",
    "    combined_to_stack = []\n",
    "\n",
    "    image = images[glims_id]\n",
    "    dem = dems[glims_id]\n",
    "    mask = masks[glims_id]\n",
    "\n",
    "    combined_images_and_dems = [np.concatenate((image[file_name], dem[f\"{glims_id}_NASADEM.tif\"]),axis = 2) for file_name in image]\n",
    "    smoothed_image = np.percentile(np.stack(combined_images_and_dems), percentile, axis = 0)\n",
    "    if np.sum(smoothed_image == 0) < 50000: #convert to percent\n",
    "        combined_to_stack.append(smoothed_image)\n",
    "\n",
    "    X = np.stack(smoothed_image)\n",
    "\n",
    "    tifffile.imsave(os.path.join(images_write_path,f\"{glims_id}.tif\"), X)\n",
    "    tifffile.imsave(os.path.join(masks_write_path,f\"{glims_id}.tif\"),mask[f'{glims_id}.tif']) "
   ]
  },
  {
   "cell_type": "code",
   "execution_count": null,
   "id": "coupled-clerk",
   "metadata": {},
   "outputs": [],
   "source": [
    "#explore.view_training_images(X_train, where = 0, n=100)"
   ]
  },
  {
   "cell_type": "code",
   "execution_count": null,
   "id": "8c115aac",
   "metadata": {},
   "outputs": [],
   "source": [
    "#X_train, X_test, y_train, y_test = train_test_split(X, y, test_size=0.25, random_state=1)\n",
    "#training_data = list(zip(X_train,y_train))\n",
    "#test_data = list(zip(X_test, y_test))"
   ]
  }
 ],
 "metadata": {
  "kernelspec": {
   "display_name": "Python 3",
   "language": "python",
   "name": "python3"
  },
  "language_info": {
   "codemirror_mode": {
    "name": "ipython",
    "version": 3
   },
   "file_extension": ".py",
   "mimetype": "text/x-python",
   "name": "python",
   "nbconvert_exporter": "python",
   "pygments_lexer": "ipython3",
   "version": "3.8.12"
  }
 },
 "nbformat": 4,
 "nbformat_minor": 5
}
