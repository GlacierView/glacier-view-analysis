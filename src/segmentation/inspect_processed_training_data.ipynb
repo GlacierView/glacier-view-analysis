{
 "cells": [
  {
   "cell_type": "code",
   "execution_count": null,
   "id": "5e697c03",
   "metadata": {},
   "outputs": [],
   "source": [
    "import os\n",
    "import rasterio\n",
    "import numpy as np\n",
    "import matplotlib.pyplot as plt"
   ]
  },
  {
   "cell_type": "code",
   "execution_count": null,
   "id": "92b9b9e8",
   "metadata": {},
   "outputs": [],
   "source": [
    "#inputs\n",
    "data_label = \"localized_time_series_for_training_c02_t1_l2\"\n",
    "dem_data_label = \"localized_time_series_for_segmentation_training_large\"\n",
    "dem_label = \"NASADEM\"\n",
    "glacier_view_dir = os.path.join(os.path.expanduser('~'),\"Desktop\",\"projects\",\"GlacierView\")\n",
    "glaciers_dir = os.path.join(glacier_view_dir,\"src\",\"earth_engine\",\"data\",\"ee_landing_zone\",data_label, \"landsat\")\n",
    "dem_dir = os.path.join(glacier_view_dir,\"src\",\"earth_engine\", \"data\",\"ee_landing_zone\",dem_data_label, \"dems\")\n",
    "masks_dir = os.path.join(glacier_view_dir, \"src\",\"segmentation\",\"training\",\"data\",\"masks_staging_2\")\n",
    "log_dir = os.path.join(glacier_view_dir,\"src\",\"earth_engine\",\"data\",\"ee_landing_zone\",data_label, \"logs\")\n",
    "output_dir = os.path.join(glacier_view_dir, \"src\", \"earth_engine\", \"data\", \"processed_metadata\", data_label)\n",
    "log_path =  os.path.join(log_dir,\"training_log_1.log\")\n",
    "glims_ids = [f for f in os.listdir(glaciers_dir) if not f.startswith('.')]\n",
    "\n",
    "#outputs\n",
    "processed_training_data = os.path.join(glacier_view_dir, \"src\",\"segmentation\",\"training\",\"data\",\"processed_training_data_2\")\n",
    "images_write_path = os.path.join(processed_training_data, \"images\")\n",
    "masks_write_path = os.path.join(processed_training_data, \"masks\")"
   ]
  },
  {
   "cell_type": "code",
   "execution_count": null,
   "id": "22a423c5",
   "metadata": {},
   "outputs": [],
   "source": [
    "os.listdir(images_write_path)"
   ]
  },
  {
   "cell_type": "code",
   "execution_count": null,
   "id": "78641dc3",
   "metadata": {},
   "outputs": [],
   "source": [
    "for example_file_name in os.listdir(images_write_path):\n",
    "    print(example_file_name)\n",
    "    with rasterio.open(os.path.join(images_write_path, example_file_name)) as src:\n",
    "        img = src.read()\n",
    "        img = np.rollaxis(img,0,3)\n",
    "    n_bands = img.shape[2]\n",
    "    fig, ax = plt.subplots(1,n_bands+1, figsize = (20,20))\n",
    "    plt.set_cmap(\"gray\")\n",
    "    ax[0].imshow(img[:,:,[2,1,0]])\n",
    "    for i in range(n_bands):\n",
    "        ax[i+1].imshow(img[:,:,i])\n",
    "\n",
    "    plt.show()   "
   ]
  },
  {
   "cell_type": "code",
   "execution_count": null,
   "id": "a7190941",
   "metadata": {},
   "outputs": [],
   "source": [
    "raster.max()"
   ]
  },
  {
   "cell_type": "code",
   "execution_count": null,
   "id": "954c3eab",
   "metadata": {},
   "outputs": [],
   "source": []
  }
 ],
 "metadata": {
  "kernelspec": {
   "display_name": "Python 3",
   "language": "python",
   "name": "python3"
  },
  "language_info": {
   "codemirror_mode": {
    "name": "ipython",
    "version": 3
   },
   "file_extension": ".py",
   "mimetype": "text/x-python",
   "name": "python",
   "nbconvert_exporter": "python",
   "pygments_lexer": "ipython3",
   "version": "3.8.12"
  }
 },
 "nbformat": 4,
 "nbformat_minor": 5
}
