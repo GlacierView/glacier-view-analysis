{
 "cells": [
  {
   "cell_type": "markdown",
   "id": "0d07e8d8",
   "metadata": {},
   "source": [
    "This notebook takes in the glims database as input and outputs a processed version of the database ready for earth engine consumption"
   ]
  },
  {
   "cell_type": "code",
   "execution_count": 1,
   "id": "c0f8ab72",
   "metadata": {},
   "outputs": [],
   "source": [
    "import os\n",
    "import geopandas as gpd\n",
    "import pandas as pd\n",
    "from collections import Counter\n",
    "from datetime import datetime\n",
    "import numpy as np"
   ]
  },
  {
   "cell_type": "code",
   "execution_count": 2,
   "id": "00e6a387",
   "metadata": {},
   "outputs": [],
   "source": [
    "glacier_view_dir = os.path.join(os.path.expanduser(\"~\"), \"Desktop\",\"projects\",\"GlacierView\")\n",
    "glims_path = os.path.join(glacier_view_dir,\"src\",\"glims\",\"data\",\"glims_db_20210914\",\"glims_polygons.shp\")\n",
    "df = gpd.read_file(glims_path, index_col = 0) "
   ]
  },
  {
   "cell_type": "code",
   "execution_count": 5,
   "id": "24117897",
   "metadata": {},
   "outputs": [],
   "source": [
    "df['date'] = [datetime.strptime(dat.split(\"T\")[0], '%Y-%m-%d') for dat in list(df.src_date)] #convert string dates to datetime\n",
    "df = df.loc[df['date'] > datetime(2005,1,1)] #select glaciers with polygons drawn after 2005\n",
    "df = df[~df['geog_area'].isin(['Svalbard, Jan Mayen, and Bouvet', \"Various (GlobGlacier)\", 'Randolph Glacier Inventory; Umbrella RC for merging the RGI into GLIMS','Antarctic Peninsula','Various (NSIDC)'])]\n",
    "df = df[(df.db_area > 1) & (df.db_area < 50)] #nothing too small, nothing too large\n",
    "df = df.iloc[:,:-1] #ESRI shapefiles don't support datetime fields "
   ]
  },
  {
   "cell_type": "code",
   "execution_count": 7,
   "id": "53c208ab",
   "metadata": {},
   "outputs": [],
   "source": [
    "#remove glac ids which appear more than once in GLIMS (multiple annotations)\n",
    "df = df.reset_index(drop = True)\n",
    "clean_copy = df.copy()\n",
    "s = set()\n",
    "for i in range(df.shape[0]):\n",
    "    if df.glac_id[i] in s:\n",
    "        clean_copy = clean_copy.drop(i, axis = 0)\n",
    "    else:\n",
    "        s.add(df.glac_id[i])\n",
    "df = clean_copy"
   ]
  },
  {
   "cell_type": "code",
   "execution_count": 8,
   "id": "16e9ed74",
   "metadata": {},
   "outputs": [],
   "source": [
    "ids = list(Counter(df.glac_id).keys()) #get list of unique ids\n",
    "#df['geometry'] = gpd.GeoSeries.from_wkt(df['geometry']) not needed anymore\n",
    "gdf = gpd.GeoDataFrame(df, geometry = \"geometry\")"
   ]
  },
  {
   "cell_type": "code",
   "execution_count": 9,
   "id": "a0c4f961",
   "metadata": {},
   "outputs": [],
   "source": [
    "bboxes = []\n",
    "for i in range(df.shape[0]):\n",
    "    bboxes.append(list(zip(*np.asarray(gdf.iloc[[i],:].envelope.scale(xfact = 1.1, yfact = 1.1).squeeze().exterior.coords.xy))))\n",
    "gdf['bboxes'] = [str(bbox) for bbox in bboxes]"
   ]
  },
  {
   "cell_type": "code",
   "execution_count": 11,
   "id": "f17d5d21",
   "metadata": {},
   "outputs": [],
   "source": [
    "gdf.to_file(os.path.join(glacier_view_dir,\"src\",\"glims\",\"data\",\"training_sample\",\"glims_18k_bb.shp\"))"
   ]
  }
 ],
 "metadata": {
  "kernelspec": {
   "display_name": "Python 3",
   "language": "python",
   "name": "python3"
  },
  "language_info": {
   "codemirror_mode": {
    "name": "ipython",
    "version": 3
   },
   "file_extension": ".py",
   "mimetype": "text/x-python",
   "name": "python",
   "nbconvert_exporter": "python",
   "pygments_lexer": "ipython3",
   "version": "3.8.12"
  }
 },
 "nbformat": 4,
 "nbformat_minor": 5
}
