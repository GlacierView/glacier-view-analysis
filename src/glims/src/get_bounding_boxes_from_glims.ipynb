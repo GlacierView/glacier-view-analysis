{
 "cells": [
  {
   "cell_type": "code",
   "execution_count": 1,
   "id": "3dc6eada",
   "metadata": {},
   "outputs": [],
   "source": [
    "import os\n",
    "import geopandas as gpd\n",
    "import pandas as pd\n",
    "from collections import Counter\n",
    "from datetime import datetime\n",
    "import numpy as np"
   ]
  },
  {
   "cell_type": "code",
   "execution_count": 2,
   "id": "5cccdfff",
   "metadata": {},
   "outputs": [],
   "source": [
    "file_dir = os.path.join(os.path.expanduser(\"~\"), \"Desktop\",\"projects\",\"glims-processor\",\"joined\")\n",
    "file_name = \"joined.shp\"\n",
    "df = gpd.read_file(os.path.join(file_dir,file_name)) #read in data"
   ]
  },
  {
   "cell_type": "code",
   "execution_count": 3,
   "id": "1064ad5e",
   "metadata": {},
   "outputs": [],
   "source": []
  },
  {
   "cell_type": "code",
   "execution_count": 4,
   "id": "0ca3a183",
   "metadata": {},
   "outputs": [],
   "source": [
    "df.to_file(os.path.join(\"output\",\"joined_474_bb.shp\"))"
   ]
  }
 ],
 "metadata": {
  "kernelspec": {
   "display_name": "Python 3",
   "language": "python",
   "name": "python3"
  },
  "language_info": {
   "codemirror_mode": {
    "name": "ipython",
    "version": 3
   },
   "file_extension": ".py",
   "mimetype": "text/x-python",
   "name": "python",
   "nbconvert_exporter": "python",
   "pygments_lexer": "ipython3",
   "version": "3.8.12"
  }
 },
 "nbformat": 4,
 "nbformat_minor": 5
}
