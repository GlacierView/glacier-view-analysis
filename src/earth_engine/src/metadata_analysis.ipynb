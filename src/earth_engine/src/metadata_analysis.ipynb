{
 "cells": [
  {
   "cell_type": "code",
   "execution_count": null,
   "id": "cd3a038e",
   "metadata": {},
   "outputs": [],
   "source": [
    "import os\n",
    "import pandas as pd\n",
    "import matplotlib.pyplot as plt\n",
    "import numpy as np"
   ]
  },
  {
   "cell_type": "code",
   "execution_count": null,
   "id": "624c25c5",
   "metadata": {},
   "outputs": [],
   "source": [
    "data_label = \"localized_time_series_for_training_c02_t1_l2\"\n",
    "glacier_view_dir = os.path.join(os.path.expanduser('~'),\"Desktop\",\"projects\",\"GlacierView\")\n",
    "metadata_dir = os.path.join(glacier_view_dir,\"src\",\"earth_engine\",\"data\",\"processed_metadata\",data_label)"
   ]
  },
  {
   "cell_type": "code",
   "execution_count": null,
   "id": "b9ba5881",
   "metadata": {},
   "outputs": [],
   "source": [
    "df = pd.read_csv(os.path.join(metadata_dir,\"denormalized_metadata.csv\"))"
   ]
  },
  {
   "cell_type": "code",
   "execution_count": null,
   "id": "999b2a6b",
   "metadata": {},
   "outputs": [],
   "source": [
    "df.head()"
   ]
  },
  {
   "cell_type": "code",
   "execution_count": null,
   "id": "e2989152",
   "metadata": {},
   "outputs": [],
   "source": [
    "plt.hist(df[\"zero_pixel_count\"], bins = 1000)\n",
    "plt.xlim(0,100_000)\n",
    "plt.show()"
   ]
  },
  {
   "cell_type": "code",
   "execution_count": null,
   "id": "019519ae",
   "metadata": {},
   "outputs": [],
   "source": [
    "plt.hist(df[\"num_pixels\"], bins = 1000)\n",
    "plt.xlim(0,1_000_000)\n",
    "plt.show()"
   ]
  },
  {
   "cell_type": "code",
   "execution_count": null,
   "id": "f463e5c6",
   "metadata": {},
   "outputs": [],
   "source": [
    "df[\"no_data_pixel_count\"].describe()"
   ]
  },
  {
   "cell_type": "code",
   "execution_count": null,
   "id": "49de57f0",
   "metadata": {},
   "outputs": [],
   "source": [
    "plt.hist(df[\"negative_pixel_count\"], bins = 5000)\n",
    "plt.xlim(0,25_000)\n",
    "plt.show()"
   ]
  },
  {
   "cell_type": "code",
   "execution_count": null,
   "id": "9124ea29",
   "metadata": {},
   "outputs": [],
   "source": [
    "plt.hist(df[\"percentage_zero_pixels\"], bins = 100)\n",
    "plt.show()"
   ]
  },
  {
   "cell_type": "code",
   "execution_count": null,
   "id": "24723f52",
   "metadata": {},
   "outputs": [],
   "source": [
    "np.unique(df[\"cloud_cover\"])"
   ]
  },
  {
   "cell_type": "code",
   "execution_count": null,
   "id": "33de4a6a",
   "metadata": {},
   "outputs": [],
   "source": [
    "plt.hist(df[\"cloud_cover\"], bins = 100)\n",
    "plt.show()"
   ]
  },
  {
   "cell_type": "code",
   "execution_count": null,
   "id": "ebd24f0f",
   "metadata": {},
   "outputs": [],
   "source": [
    "df[\"image_quality\"].value_counts()"
   ]
  },
  {
   "cell_type": "code",
   "execution_count": null,
   "id": "c7f324b2",
   "metadata": {},
   "outputs": [],
   "source": []
  }
 ],
 "metadata": {
  "kernelspec": {
   "display_name": "Python 3",
   "language": "python",
   "name": "python3"
  },
  "language_info": {
   "codemirror_mode": {
    "name": "ipython",
    "version": 3
   },
   "file_extension": ".py",
   "mimetype": "text/x-python",
   "name": "python",
   "nbconvert_exporter": "python",
   "pygments_lexer": "ipython3",
   "version": "3.8.12"
  }
 },
 "nbformat": 4,
 "nbformat_minor": 5
}
