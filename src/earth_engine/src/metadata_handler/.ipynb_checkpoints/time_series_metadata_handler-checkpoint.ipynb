{
 "cells": [
  {
   "cell_type": "code",
   "execution_count": 33,
   "id": "54b59674",
   "metadata": {},
   "outputs": [],
   "source": [
    "import pandas as pd\n",
    "import os\n",
    "import rasterio\n",
    "import sys\n",
    "import json"
   ]
  },
  {
   "cell_type": "code",
   "execution_count": 34,
   "id": "ff906f9a",
   "metadata": {},
   "outputs": [],
   "source": [
    "output_dir = \"/Users/mattw/Desktop/projects/GlacierView/src/earth_engine/data/processed_metadata/full_time_series\"\n",
    "logs_path = \"/Users/mattw/Desktop/projects/GlacierView/src/earth_engine/data/ee_landing_zone/full_time_series/logs\"\n",
    "glacier_view_dir = os.path.join(os.path.expanduser(\"~\"),\"Desktop\",\"projects\",\"GlacierView\")\n",
    "glaciers_dir = os.path.join(glacier_view_dir,\"src\",\"earth_engine\",\"data\",\"ee_landing_zone/full_time_series/landsat\")"
   ]
  },
  {
   "cell_type": "markdown",
   "id": "cdbda8cc",
   "metadata": {},
   "source": [
    "### Step 1: collect and clean logs"
   ]
  },
  {
   "cell_type": "code",
   "execution_count": 19,
   "id": "806e85b3",
   "metadata": {},
   "outputs": [],
   "source": [
    "batch_1_df = pd.read_csv(os.path.join(logs_path,'time_series_log_batch_1.log'), sep = \",\", header = None)\n",
    "batch_2_df = pd.read_csv(os.path.join(logs_path,'time_series_log_batch_2.log'), sep = \",\", header = None)\n",
    "batch_3_df = pd.read_csv(os.path.join(logs_path,'time_series_log_batch_3.log'), sep = \",\", header = None)"
   ]
  },
  {
   "cell_type": "code",
   "execution_count": 20,
   "id": "4203d7d2",
   "metadata": {},
   "outputs": [],
   "source": [
    "GLIMS_ID_STR_INDEX = 1\n",
    "CRS_STR_INDEX = 2\n",
    "UTM_ZONE_STR_INDEX = 1"
   ]
  },
  {
   "cell_type": "code",
   "execution_count": 21,
   "id": "cc412cf3",
   "metadata": {},
   "outputs": [],
   "source": [
    "log_df = pd.concat((batch_1_df, batch_2_df, batch_3_df), axis = 0)"
   ]
  },
  {
   "cell_type": "code",
   "execution_count": 23,
   "id": "c9e8a1a6",
   "metadata": {},
   "outputs": [],
   "source": [
    "log_df.columns = ['ee_pull_date', 'glims_id','crs','utm_zone','landsat_satellite']\n",
    "log_df.glims_id = log_df.glims_id.str.split(\": \", expand = True)[GLIMS_ID_STR_INDEX] \n",
    "log_df.crs = log_df.crs.str.split(\":\", expand = True)[CRS_STR_INDEX]\n",
    "log_df.utm_zone = log_df.utm_zone.str.split(\": \", expand = True)[UTM_ZONE_STR_INDEX]"
   ]
  },
  {
   "cell_type": "code",
   "execution_count": 25,
   "id": "77786a8e",
   "metadata": {},
   "outputs": [],
   "source": [
    "log_df.to_csv(os.path.join(output_dir, \"processed_logs.csv\"), index = False)"
   ]
  },
  {
   "cell_type": "markdown",
   "id": "8fce34f1",
   "metadata": {},
   "source": [
    "### Step 2: collect image file sizes (filename, file size in bytes)"
   ]
  },
  {
   "cell_type": "code",
   "execution_count": 35,
   "id": "a23995cd",
   "metadata": {},
   "outputs": [],
   "source": [
    "glims_ids = log_df.glims_id.unique()\n",
    "glaciers_dir = os.path.join(glacier_view_dir,\"data\",\"ee_data\",\"training\",\"UTM\")\n",
    "glaciers_sizes = []\n",
    "for glims_id in glims_ids:\n",
    "    glacier_dir = os.path.join(glaciers_dir,glims_id)\n",
    "    try:\n",
    "        folder = os.listdir(glacier_dir)\n",
    "    except FileNotFoundError:\n",
    "        continue\n",
    "    for glacier in folder:\n",
    "        if glacier == \"meta_data\":\n",
    "            continue\n",
    "        base_name = glacier.split(\".\")[0]\n",
    "        glacier_path = os.path.join(glacier_dir,glacier)\n",
    "        size_in_bytes = os.path.getsize(glacier_path)\n",
    "        glaciers_sizes.append((base_name,size_in_bytes)) "
   ]
  },
  {
   "cell_type": "code",
   "execution_count": 36,
   "id": "15b051e9",
   "metadata": {},
   "outputs": [],
   "source": [
    "size_df = pd.DataFrame(glaciers_sizes, columns = [\"glacier_pk\", \"file size in bytes\"])"
   ]
  },
  {
   "cell_type": "code",
   "execution_count": null,
   "id": "c4d7760e",
   "metadata": {},
   "outputs": [],
   "source": []
  },
  {
   "cell_type": "code",
   "execution_count": 29,
   "id": "49e9d628",
   "metadata": {},
   "outputs": [],
   "source": [
    "size_df.to_csv(os.path.join(output_dir,\"file_sizes.csv\"), index = False)"
   ]
  },
  {
   "cell_type": "markdown",
   "id": "80888e32",
   "metadata": {},
   "source": [
    "## Collect metadata from JSON"
   ]
  },
  {
   "cell_type": "code",
   "execution_count": 14,
   "id": "e21c8b96",
   "metadata": {},
   "outputs": [],
   "source": [
    "glacier_view_dir = os.path.join(os.path.expanduser(\"~\"),\"Desktop\",\"projects\",\"GlacierView\")\n",
    "glaciers_dir = os.path.join(glacier_view_dir,\"src\",\"earth_engine\",\"data\",\"ee_landing_zone/full_time_series/landsat\")\n",
    "glaciers = os.listdir(glaciers_dir)\n",
    "ee_meta_data_df = pd.DataFrame({\"glacier_pk\":[], \n",
    "                               \"cloud\":[], \n",
    "                               \"cloud_cover\": [],\n",
    "                               \"image_quality\": [],\n",
    "                               \"image_quality_tirs\": [],\n",
    "                               \"iamge_quality_oli\": [],\n",
    "                               \"cloud_cover_land\": [],\n",
    "                               \"system_index\": [],\n",
    "                               \"utm_zone\": []\n",
    "                              })\n",
    "for glacier in glaciers:\n",
    "    if glacier == \".DS_Store\": continue\n",
    "    glacier_dir = os.path.join(glaciers_dir, glacier)\n",
    "    if \"meta_data\" not in os.listdir(glacier_dir): continue\n",
    "    meta_data_dir = os.path.join(glacier_dir, \"meta_data\")\n",
    "    meta_data_file_names = os.listdir(meta_data_dir)\n",
    "    for meta_data_file_name in meta_data_file_names:\n",
    "        with open(os.path.join(meta_data_dir,meta_data_file_name), mode = \"r\") as file:\n",
    "            meta = file.read()\n",
    "            split_meta = meta.split(\"\\n\")\n",
    "            del split_meta[0]\n",
    "            del split_meta[-1]\n",
    "            for unformatted_meta in split_meta:\n",
    "                truncated_meta = unformatted_meta.split(\",\\\"\")[1][:-1]\n",
    "                meta_data = truncated_meta.replace(\"\\'\", \"\\\"\")\n",
    "                meta_dict = json.loads(meta_data)\n",
    "                meta_id_split = meta_dict['id'].split(\"_\")\n",
    "                \n",
    "                landsat = \"L\" + str(int(meta_id_split[1][-2:]))\n",
    "                date = meta_id_split[-1]\n",
    "                year = date[:4]\n",
    "                month = date[4:6]\n",
    "                day = date[6:]\n",
    "                glacier_pk = f\"{glacier}_{year}-{month}-{day}_{landsat}_T1_TOA\"\n",
    "                \n",
    "                cloud = meta_dict['properties']['cloud']\n",
    "                cloud_cover = meta_dict['properties']['CLOUD_COVER']\n",
    "                try: \n",
    "                    image_quality = meta_dict['properties']['IMAGE_QUALITY']\n",
    "                except:\n",
    "                    image_quality = \"\"\n",
    "                \n",
    "                try: \n",
    "                    image_quality_tirs = meta_dict['properties']['IMAGE_QUALITY_TIRS']\n",
    "                except:\n",
    "                    image_quality_tirs = \"\"\n",
    "                    \n",
    "                try: \n",
    "                    image_quality_oli = meta_dict['properties']['IMAGE_QUALITY_OLI']\n",
    "                except:\n",
    "                    image_quality_oli = \"\"\n",
    "                       \n",
    "                cloud_cover_land = meta_dict['properties']['CLOUD_COVER_LAND']\n",
    "                system_index = meta_dict['properties']['system:index']\n",
    "                utm_zone = meta_dict['properties']['UTM_ZONE']\n",
    "                \n",
    "                ee_meta_data = {\"glacier_pk\":glacier_pk, \n",
    "                               \"cloud\":cloud, \n",
    "                               \"cloud_cover\": cloud_cover,\n",
    "                               \"image_quality\": image_quality,\n",
    "                               \"image_quality_tirs\": image_quality_tirs,\n",
    "                               \"iamge_quality_oli\": image_quality_oli,\n",
    "                               \"cloud_cover_land\": cloud_cover_land,\n",
    "                               \"system_index\": system_index,\n",
    "                               \"utm_zone\": utm_zone\n",
    "                              }\n",
    "                ee_meta_data_df = ee_meta_data_df.append(ee_meta_data, ignore_index = True)                \n"
   ]
  },
  {
   "cell_type": "code",
   "execution_count": 17,
   "id": "42a9ca66",
   "metadata": {},
   "outputs": [],
   "source": [
    "ee_meta_data_df.to_csv(os.path.join(output_dir,\"ee_metadata.csv\"), index = False)"
   ]
  }
 ],
 "metadata": {
  "kernelspec": {
   "display_name": "Python 3",
   "language": "python",
   "name": "python3"
  },
  "language_info": {
   "codemirror_mode": {
    "name": "ipython",
    "version": 3
   },
   "file_extension": ".py",
   "mimetype": "text/x-python",
   "name": "python",
   "nbconvert_exporter": "python",
   "pygments_lexer": "ipython3",
   "version": "3.8.12"
  }
 },
 "nbformat": 4,
 "nbformat_minor": 5
}
