{
 "cells": [
  {
   "cell_type": "markdown",
   "id": "0e3675ab",
   "metadata": {},
   "source": [
    "TODO:\n",
    "1. Create database in Athena"
   ]
  },
  {
   "cell_type": "markdown",
   "id": "c25d6d11",
   "metadata": {},
   "source": [
    "Metadata collection workflow:\n",
    "\n",
    "1. Collect metadata from logs. This includes date the image was pulled; glims_id; crs; utm_zone; landsat image collection;\n",
    "\n",
    "2. Collect metadata from metadata files for each landsat\n",
    "\n",
    "3. Collect metadata from the image files. This includes the date the image was taken; the file size; \n",
    "\n",
    "4. Collect metadata from the images. This includes the image shape.\n",
    "\n",
    "5. Join on filename"
   ]
  },
  {
   "cell_type": "code",
   "execution_count": 1,
   "id": "4242a892",
   "metadata": {},
   "outputs": [
    {
     "ename": "SyntaxError",
     "evalue": "invalid syntax (<ipython-input-1-5d29d563daf3>, line 5)",
     "output_type": "error",
     "traceback": [
      "\u001b[0;36m  Input \u001b[0;32mIn [1]\u001b[0;36m\u001b[0m\n\u001b[0;31m    'dimensions': [8441, 7881],\u001b[0m\n\u001b[0m    ^\u001b[0m\n\u001b[0;31mSyntaxError\u001b[0m\u001b[0;31m:\u001b[0m invalid syntax\n"
     ]
    }
   ],
   "source": [
    "{'type': 'Image',\n",
    " 'bands': [\n",
    "     {'id': 'B1',\n",
    "      'data_type': {'type': 'PixelType', 'precision': 'float'}\n",
    "      'dimensions': [8441, 7881],\n",
    "      'crs': 'EPSG:32632',\n",
    "      'crs_transform': [30, 0, 297885, 0, -30, 6934215]\n",
    "     },\n",
    "     {'id': 'B2',\n",
    "      'data_type': {'type': 'PixelType', 'precision': 'float'},\n",
    "      'dimensions': [8441, 7881],\n",
    "      'crs': 'EPSG:32632',\n",
    "      'crs_transform': [30, 0, 297885, 0, -30, 6934215]\n",
    "     },\n",
    "     {'id': 'B3',\n",
    "      'data_type': {'type': 'PixelType', 'precision': 'float'},\n",
    "      'dimensions': [8441, 7881],\n",
    "      'crs': 'EPSG:32632',\n",
    "      'crs_transform': [30, 0, 297885, 0, -30, 6934215]\n",
    "     },\n",
    "     {'id': 'B4',\n",
    "      'data_type': {'type': 'PixelType', 'precision': 'float'},\n",
    "      'dimensions': [8441, 7881],\n",
    "      'crs': 'EPSG:32632',\n",
    "      'crs_transform': [30, 0, 297885, 0, -30, 6934215]\n",
    "     },\n",
    "     {'id': 'B5',\n",
    "      'data_type': {'type': 'PixelType', 'precision': 'float'},\n",
    "      'dimensions': [8441, 7881],\n",
    "      'crs': 'EPSG:32632',\n",
    "      'crs_transform': [30, 0, 297885, 0, -30, 6934215]\n",
    "     }, \n",
    "     {'id': 'B6',\n",
    "      'data_type': {'type': 'PixelType', 'precision': 'float'},\n",
    "      'dimensions': [8441, 7881],\n",
    "      'crs': 'EPSG:32632',\n",
    "      'crs_transform': [30, 0, 297885, 0, -30, 6934215]\n",
    "     },\n",
    "     {'id': 'B7',\n",
    "      'data_type': {'type': 'PixelType', 'precision': 'float'},\n",
    "      'dimensions': [8441, 7881],\n",
    "      'crs': 'EPSG:32632',\n",
    "      'crs_transform': [30, 0, 297885, 0, -30, 6934215]\n",
    "     }, {'id': 'BQA',\n",
    "         'data_type': {'type': 'PixelType', 'precision': 'int', 'min': 0, 'max': 65535},\n",
    "         'dimensions': [8441, 7881],\n",
    "         'crs': 'EPSG:32632',\n",
    "         'crs_transform': [30, 0, 297885, 0, -30, 6934215]\n",
    "        }\n",
    " ],\n",
    " 'version': 1637547863240067,\n",
    " 'id': 'LANDSAT/LT05/C01/T1_TOA/LT05_200017_20060808',\n",
    " 'properties': {'cloud': 71.90979999905855,\n",
    "                'RADIANCE_MULT_BAND_5': 0.12035000324249268,\n",
    "                'RADIANCE_MULT_BAND_6': 0.05537499859929085,\n",
    "                'IMAGE_QUALITY': 9,\n",
    "                'RADIANCE_MULT_BAND_3': 1.0440000295639038,\n",
    "                'RADIANCE_MULT_BAND_4': 0.8760200142860413,\n",
    "                'RADIANCE_MULT_BAND_1': 0.7658299803733826,\n",
    "                'RADIANCE_MULT_BAND_2': 1.448199987411499,\n",
    "                'K2_CONSTANT_BAND_6': 1260.56005859375,\n",
    "                'CORRECTION_GAIN_BAND_2': 'CPF',\n",
    "                'CORRECTION_GAIN_BAND_1': 'CPF',\n",
    "                'system:footprint': {'type': 'LinearRing',\n",
    "                                     'coordinates': [[8.75944773267767, 60.42588278654468],\n",
    "                                                     [8.78290786252994, 60.4220613280782],\n",
    "                                                     [8.803640478497163, 60.427365404461185],\n",
    "                                                     [9.010315528367336, 60.69830918687514],\n",
    "                                                     [9.725522968205079, 61.610700364371446],\n",
    "                                                     [9.96733652254739, 61.91065091536024],\n",
    "                                                     [9.973336904189752, 61.91873371071608],\n",
    "                                                     [9.974303257410686, 61.94909094021114],\n",
    "                                                     [9.935413704121657, 61.959954475179025],\n",
    "                                                     [9.87867690153891, 61.96954169855863], \n",
    "                                                     [9.777569658103324, 61.986259157961335],\n",
    "                                                     [8.62685296649254, 62.16999082828351],\n",
    "                                                     [6.267470163020758, 62.510551121272854],\n",
    "                                                     [6.265117539693487, 62.510505024024326],\n",
    "                                                     [5.752410602905267, 61.761351318119715],\n",
    "                                                     [5.262630047720833, 61.00894294544531],\n",
    "                                                     [5.260758849404971, 61.002948628629916],\n",
    "                                                     [5.267110974159161, 60.94888832276869],\n",
    "                                                     [5.342406950071589, 60.938577055995644],\n",
    "                                                     [7.6122223377085065, 60.6096061920694],\n",
    "                                                     [7.992764910838719, 60.5499790898727],\n",
    "                                                     [8.75944773267767, 60.42588278654468]]\n",
    "                                    },\n",
    "                'REFLECTIVE_SAMPLES': 8441,\n",
    "                'CORRECTION_GAIN_BAND_7': 'CPF',\n",
    "                'CORRECTION_GAIN_BAND_6': 'INTERNAL_CALIBRATION',\n",
    "                'CORRECTION_GAIN_BAND_5': 'CPF',\n",
    "                'SUN_AZIMUTH': 160.42684936523438,\n",
    "                'CORRECTION_GAIN_BAND_4': 'CPF',\n",
    "                'CORRECTION_GAIN_BAND_3': 'CPF',\n",
    "                'CPF_NAME': 'LT05CPF_20060701_20060815_01.03',\n",
    "                'DATE_ACQUIRED': '2006-08-08',\n",
    "                'ELLIPSOID': 'WGS84',\n",
    "                'SENSOR_MODE': 'BUMPER',\n",
    "                'STATION_ID': 'KIS',\n",
    "                'RESAMPLING_OPTION': 'CUBIC_CONVOLUTION',\n",
    "                'ORIENTATION': 'NORTH_UP',\n",
    "                'WRS_ROW': 17,\n",
    "                'RADIANCE_MULT_BAND_7': 0.06555099785327911,\n",
    "                'CLOUD_COVER': 52,\n",
    "                'GEOMETRIC_RMSE_VERIFY': 0.5109999775886536,\n",
    "                'COLLECTION_CATEGORY': 'T1',\n",
    "                'GRID_CELL_SIZE_REFLECTIVE': 30,\n",
    "                'DATA_CATEGORY': 'NOMINAL',\n",
    "                'K1_CONSTANT_BAND_6': 607.760009765625,\n",
    "                'CLOUD_COVER_LAND': 52,\n",
    "                'GEOMETRIC_RMSE_MODEL': 8.10200023651123,\n",
    "                'COLLECTION_NUMBER': 1,\n",
    "                'LANDSAT_SCENE_ID': 'LT52000172006220KIS01',\n",
    "                'WRS_PATH': 200,\n",
    "                'MAP_PROJECTION_L0RA': 'NA',\n",
    "                'GEOMETRIC_RMSE_MODEL_Y': 7.4079999923706055,\n",
    "                'REFLECTIVE_LINES': 7881,\n",
    "                'GEOMETRIC_RMSE_MODEL_X': 3.2799999713897705,\n",
    "                'system:asset_size': 261899008,\n",
    "                'system:index': 'LT05_200017_20060808',\n",
    "                'GEOMETRIC_RMSE_VERIFY_QUAD_LL': 0.4429999887943268,\n",
    "                'GEOMETRIC_RMSE_VERIFY_QUAD_LR': 0.5860000252723694,\n",
    "                'REFLECTANCE_ADD_BAND_1': -0.0037980000488460064,\n",
    "                'REFLECTANCE_ADD_BAND_2': -0.007873999886214733,\n",
    "                'DATUM': 'WGS84',\n",
    "                'REFLECTANCE_ADD_BAND_3': -0.004798999987542629,\n",
    "                'REFLECTANCE_ADD_BAND_4': -0.007460999768227339,\n",
    "                'REFLECTANCE_ADD_BAND_5': -0.007557000033557415,\n",
    "                'REFLECTANCE_ADD_BAND_7': -0.008465999737381935,\n",
    "                'GROUND_CONTROL_POINTS_VERSION': 4,\n",
    "                'DATA_TYPE': 'L1TP',\n",
    "                'GEOMETRIC_RMSE_VERIFY_QUAD_UL': 0.48100000619888306,\n",
    "                'CORRECTION_BIAS_BAND_2': 'CPF',\n",
    "                'CORRECTION_BIAS_BAND_1': 'CPF',\n",
    "                'GEOMETRIC_RMSE_VERIFY_QUAD_UR': 0.4729999899864197,\n",
    "                'CORRECTION_BIAS_BAND_4': 'CPF',\n",
    "                'CORRECTION_BIAS_BAND_3': 'CPF',\n",
    "                'DATA_TYPE_L0RP': 'TMR_L0RP',\n",
    "                'UTM_ZONE': 32,\n",
    "                'LANDSAT_PRODUCT_ID': 'LT05_L1TP_200017_20060808_20161119_01_T1',\n",
    "                'RADIANCE_ADD_BAND_4': -2.3860199451446533,\n",
    "                'REFLECTANCE_MULT_BAND_7': 0.0025746000465005636,\n",
    "                'system:time_start': 1155033406830,\n",
    "                'RADIANCE_ADD_BAND_5': -0.49035000801086426,\n",
    "                'RADIANCE_ADD_BAND_6': 1.1824300289154053,\n",
    "                'PROCESSING_SOFTWARE_VERSION': 'LPGS_12.8.2',\n",
    "                'RADIANCE_ADD_BAND_7': -0.2155500054359436,\n",
    "                'EPHEMERIS_TYPE': 'DEFINITIVE',\n",
    "                'RADIANCE_ADD_BAND_1': -2.285830020904541,\n",
    "                'RADIANCE_ADD_BAND_2': -4.288189888000488,\n",
    "                'RADIANCE_ADD_BAND_3': -2.213979959487915,\n",
    "                'REFLECTANCE_MULT_BAND_1': 0.0012725000269711018,\n",
    "                'CORRECTION_BIAS_BAND_6': 'CPF',\n",
    "                'REFLECTANCE_MULT_BAND_3': 0.0022630998864769936, \n",
    "                'CORRECTION_BIAS_BAND_5': 'CPF',\n",
    "                'REFLECTANCE_MULT_BAND_2': 0.002659300109371543,\n",
    "                'REFLECTANCE_MULT_BAND_5': 0.0018547000363469124,\n",
    "                'CORRECTION_BIAS_BAND_7': 'CPF',\n",
    "                'REFLECTANCE_MULT_BAND_4': 0.0027391999028623104,\n",
    "                'THERMAL_LINES': 7881,\n",
    "                'GRID_CELL_SIZE_THERMAL': 30,\n",
    "                'REQUEST_ID': '0501611191195_06050',\n",
    "                'EARTH_SUN_DISTANCE': 1.0139789581298828,\n",
    "                'FILE_DATE': 1479590848000,\n",
    "                'SCENE_CENTER_TIME': '10:36:46.8280000Z',\n",
    "                'SUN_ELEVATION': 43.447120666503906,\n",
    "                'SATURATION_BAND_1': 'Y', \n",
    "                'SATURATION_BAND_2': 'Y',\n",
    "                'SATURATION_BAND_3': 'Y',\n",
    "                'SATURATION_BAND_4': 'Y',\n",
    "                'SATURATION_BAND_5': 'Y',\n",
    "                'MAP_PROJECTION': 'UTM',\n",
    "                'SATURATION_BAND_6': 'N',\n",
    "                'SENSOR_ID': 'TM',\n",
    "                'SATURATION_BAND_7': 'Y',\n",
    "                'GROUND_CONTROL_POINTS_MODEL': 38,\n",
    "                'SPACECRAFT_ID': 'LANDSAT_5',\n",
    "                'ELEVATION_SOURCE': 'GLS2000',\n",
    "                'THERMAL_SAMPLES': 8441,\n",
    "                'GROUND_CONTROL_POINTS_VERIFY': 555\n",
    "               }\n",
    "}"
   ]
  },
  {
   "cell_type": "code",
   "execution_count": 1,
   "id": "12db81a6",
   "metadata": {},
   "outputs": [],
   "source": [
    "import pandas as pd\n",
    "import os\n",
    "import rasterio\n",
    "import sys\n",
    "sys.path.insert(0, os.path.join(os.path.expanduser(\"~\"),\"Desktop\",\"projects\", \"GlacierView\",\"src\",\"common\",\"modules\"))\n",
    "import read"
   ]
  },
  {
   "cell_type": "code",
   "execution_count": 2,
   "id": "10081dfd",
   "metadata": {},
   "outputs": [],
   "source": [
    "glacier_view_dir = os.path.join(os.path.expanduser(\"~\"),\"Desktop\",\"projects\",\"GlacierView\")"
   ]
  },
  {
   "cell_type": "code",
   "execution_count": 3,
   "id": "01af0219",
   "metadata": {},
   "outputs": [],
   "source": [
    "training_metadata_write_dir = os.path.join(os.path.join(glacier_view_dir, \"data\", \"processed_metadata\",\"training\"))"
   ]
  },
  {
   "cell_type": "markdown",
   "id": "5d0df478",
   "metadata": {},
   "source": [
    "### Step 1: Collect and clean logs"
   ]
  },
  {
   "cell_type": "code",
   "execution_count": 24,
   "id": "11916650",
   "metadata": {},
   "outputs": [],
   "source": [
    "batch_1_metadata_path =  os.path.join(glacier_view_dir,\"data\",\"ee_data\",\"training_batches\",\"batch_1\",\"training_log.log\")\n",
    "batch_2_metadata_path =  os.path.join(glacier_view_dir,\"data\",\"ee_data\",\"training_batches\",\"batch_2\",\"training_log.log\")"
   ]
  },
  {
   "cell_type": "code",
   "execution_count": 25,
   "id": "f1175c2e",
   "metadata": {},
   "outputs": [],
   "source": [
    "GLIMS_ID_STR_INDEX = 1\n",
    "CRS_STR_INDEX = 2\n",
    "UTM_ZONE_STR_INDEX = 1"
   ]
  },
  {
   "cell_type": "code",
   "execution_count": 26,
   "id": "66d01149",
   "metadata": {},
   "outputs": [],
   "source": [
    "batch_1_df = pd.read_csv(batch_1_metadata_path, sep = \",\", header = None)\n",
    "batch_2_df = pd.read_csv(batch_2_metadata_path, sep = \",\", header = None)\n",
    "log_df = pd.concat((batch_1_df, batch_2_df), axis = 0)\n",
    "log_df.columns = ['ee_pull_date', 'glims_id','crs','utm_zone','landsat_satellite']\n",
    "log_df.glims_id = log_df.glims_id.str.split(\": \", expand = True)[GLIMS_ID_STR_INDEX] \n",
    "log_df.crs = log_df.crs.str.split(\":\", expand = True)[CRS_STR_INDEX]\n",
    "log_df.utm_zone = log_df.utm_zone.str.split(\": \", expand = True)[UTM_ZONE_STR_INDEX]"
   ]
  },
  {
   "cell_type": "code",
   "execution_count": 27,
   "id": "f56ab13d",
   "metadata": {},
   "outputs": [],
   "source": [
    "log_df.to_csv(os.path.join(training_metadata_write_dir,\"processed_logs.csv\"), index = False)"
   ]
  },
  {
   "cell_type": "markdown",
   "id": "3fb4ca62",
   "metadata": {},
   "source": [
    "### Step 2: Collect image file sizes (filename, file size in bytes)"
   ]
  },
  {
   "cell_type": "code",
   "execution_count": 21,
   "id": "727aebed",
   "metadata": {},
   "outputs": [],
   "source": [
    "glims_ids = log_df.glims_id.unique()\n",
    "glaciers_dir = os.path.join(glacier_view_dir,\"data\",\"ee_data\",\"training\",\"UTM\")\n",
    "glaciers_sizes = []\n",
    "for glims_id in glims_ids:\n",
    "    glacier_dir = os.path.join(glaciers_dir,glims_id)\n",
    "    try:\n",
    "        folder = os.listdir(glacier_dir)\n",
    "    except FileNotFoundError:\n",
    "        continue\n",
    "    for glacier in folder:\n",
    "        if glacier == \"meta_data\":\n",
    "            continue\n",
    "        base_name = glacier.split(\".\")[0]\n",
    "        glacier_path = os.path.join(glacier_dir,glacier)\n",
    "        size_in_bytes = os.path.getsize(glacier_path)\n",
    "        glaciers_sizes.append((base_name,size_in_bytes)) "
   ]
  },
  {
   "cell_type": "code",
   "execution_count": 22,
   "id": "079b26cd",
   "metadata": {},
   "outputs": [],
   "source": [
    "size_df = pd.DataFrame(glaciers_sizes, columns = [\"glacier_pk\", \"file size in bytes\"])"
   ]
  },
  {
   "cell_type": "code",
   "execution_count": 23,
   "id": "f03b7489",
   "metadata": {},
   "outputs": [],
   "source": [
    "size_df.to_csv(os.path.join(training_metadata_write_dir,\"file_sizes.csv\"), index = False)"
   ]
  },
  {
   "cell_type": "markdown",
   "id": "11e29d8f",
   "metadata": {},
   "source": [
    "### Step 3: Collect image shapes, extents and other metadata"
   ]
  },
  {
   "cell_type": "code",
   "execution_count": 13,
   "id": "8d508675",
   "metadata": {},
   "outputs": [],
   "source": [
    "folder_dir = os.path.join(glacier_view_dir,\"data\",\"ee_data\",\"training\",\"UTM\")\n",
    "folders = next(os.walk(folder_dir))[1]\n",
    "folders = sorted(folders)"
   ]
  },
  {
   "cell_type": "code",
   "execution_count": 14,
   "id": "6dc251ee",
   "metadata": {},
   "outputs": [],
   "source": [
    "image_properties = []\n",
    "for folder in folders:\n",
    "    glaciers_dir = os.path.join(folder_dir,folder)\n",
    "    glacier_file_names = next(os.walk(glaciers_dir))[2]\n",
    "    glacier_file_names = [glac for glac in glacier_file_names if len(glac) > 10] #ignores .DS store\n",
    "    \n",
    "    rasters = read.get_rasters(glaciers_dir,glacier_file_names)\n",
    "    extents = read.get_extents(glaciers_dir, glacier_file_names)\n",
    "    metainfo = read.get_metainfo(glaciers_dir, glacier_file_names)\n",
    "    \n",
    "    for idx,raster in enumerate(rasters):\n",
    "        base_name = glacier_file_names[idx].split(\".\")[0]\n",
    "        image_properties.append((base_name, extents[idx], metainfo[idx]))"
   ]
  },
  {
   "cell_type": "code",
   "execution_count": 15,
   "id": "51a1af34",
   "metadata": {},
   "outputs": [],
   "source": [
    "df_image_props = pd.DataFrame(image_properties, columns = [\"glacier_pk\", \"extent\", \"metainfo\"])"
   ]
  },
  {
   "cell_type": "code",
   "execution_count": 16,
   "id": "62670e53",
   "metadata": {},
   "outputs": [],
   "source": [
    "raster_metadata_df = pd.DataFrame(columns = ['driver', 'dtype', 'nodata', 'width', 'height', 'count', 'crs'])\n",
    "for idx,row in df_image_props.iterrows():\n",
    "    metainfo = row['metainfo'].copy()\n",
    "    del metainfo['transform']\n",
    "    metainfo['crs'] = str(metainfo['crs'])\n",
    "    raster_metadata_df = raster_metadata_df.append(metainfo, ignore_index = True)"
   ]
  },
  {
   "cell_type": "code",
   "execution_count": 17,
   "id": "ab4f892a",
   "metadata": {},
   "outputs": [],
   "source": [
    "df_image_props = pd.concat((df_image_props, raster_metadata_df), axis = 1)"
   ]
  },
  {
   "cell_type": "code",
   "execution_count": 18,
   "id": "da8de62d",
   "metadata": {},
   "outputs": [],
   "source": [
    "df_image_props = df_image_props.drop(\"metainfo\", axis = 1)"
   ]
  },
  {
   "cell_type": "code",
   "execution_count": 20,
   "id": "2a3bff19",
   "metadata": {},
   "outputs": [],
   "source": [
    "df_image_props.to_csv(os.path.join(training_metadata_write_dir,\"image_properties.csv\"), index = False)"
   ]
  }
 ],
 "metadata": {
  "kernelspec": {
   "display_name": "Python 3",
   "language": "python",
   "name": "python3"
  },
  "language_info": {
   "codemirror_mode": {
    "name": "ipython",
    "version": 3
   },
   "file_extension": ".py",
   "mimetype": "text/x-python",
   "name": "python",
   "nbconvert_exporter": "python",
   "pygments_lexer": "ipython3",
   "version": "3.8.12"
  }
 },
 "nbformat": 4,
 "nbformat_minor": 5
}
