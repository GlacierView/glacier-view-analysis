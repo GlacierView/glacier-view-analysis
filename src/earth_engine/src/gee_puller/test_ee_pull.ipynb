{
 "cells": [
  {
   "cell_type": "code",
   "execution_count": 34,
   "id": "25b697ea",
   "metadata": {},
   "outputs": [],
   "source": [
    "import rasterio\n",
    "import os\n",
    "import numpy as np\n",
    "from rasterio.warp import calculate_default_transform, reproject, Resampling\n",
    "import matplotlib.pyplot as plt"
   ]
  },
  {
   "cell_type": "code",
   "execution_count": 18,
   "id": "b9509085",
   "metadata": {},
   "outputs": [],
   "source": [
    "dem_dir = os.path.join(\"/\"\"Users\", \"mattw\", \"Desktop\", \"projects\",\n",
    "                        \"GlacierView\",\"gee-pull\",\"data\", \"joined_dems\",\n",
    "                        \"dems\", \"G007026E45991N_NASADEM.tif\")"
   ]
  },
  {
   "cell_type": "code",
   "execution_count": 19,
   "id": "062bf956",
   "metadata": {},
   "outputs": [],
   "source": [
    "# with rasterio.open(file_dir) as f:\n",
    "#     landsat_img = f.read()"
   ]
  },
  {
   "cell_type": "code",
   "execution_count": 20,
   "id": "124f2142",
   "metadata": {},
   "outputs": [],
   "source": [
    "with rasterio.open(file_dir) as f:\n",
    "    dem_img = f.read()"
   ]
  },
  {
   "cell_type": "code",
   "execution_count": 21,
   "id": "fa5cad63",
   "metadata": {},
   "outputs": [
    {
     "name": "stdout",
     "output_type": "stream",
     "text": [
      "Landsat shape: (3, 174, 142) \n",
      " DEM shape:(3, 174, 142)\n"
     ]
    }
   ],
   "source": [
    "print(f\"Landsat shape: {landsat_img.shape}\", \"\\n\", f\"DEM shape:{dem_img.shape}\")"
   ]
  },
  {
   "cell_type": "code",
   "execution_count": 22,
   "id": "a84693b2",
   "metadata": {},
   "outputs": [],
   "source": [
    "DST_CRS = 'EPSG:4326'\n",
    "\n",
    "# with rasterio.open(\"/Users/mattw/Desktop/projects/gee-pull/G000000000000N/G000000000000N_19900113_Landsat5.tif\") as src:\n",
    "#     transform, width, height = calculate_default_transform(\n",
    "#         src.crs, DST_CRS, src.width, src.height, *src.bounds)\n",
    "#     kwargs = src.meta.copy()\n",
    "#     kwargs.update({\n",
    "#         'crs': DST_CRS,\n",
    "#         'transform': transform,\n",
    "#         'width': width,\n",
    "#         'height': height\n",
    "#     })\n",
    "\n",
    "#     with rasterio.open(\"new.tif\", 'w', **kwargs) as dst:\n",
    "#         for i in range(1, src.count + 1):\n",
    "#             reproject(\n",
    "#                 source=rasterio.band(src, i),\n",
    "#                 destination=rasterio.band(dst, i),\n",
    "#                 src_transform=src.transform,\n",
    "#                 src_crs=src.crs,\n",
    "#                 dst_transform=transform,\n",
    "#                 dst_crs=DST_CRS,\n",
    "#                 resampling=Resampling.nearest)\n",
    "            \n",
    "\n",
    "with rasterio.open(dem_dir) as src:\n",
    "    transform, width, height = calculate_default_transform(\n",
    "        src.crs, DST_CRS, src.width, src.height, *src.bounds)\n",
    "    kwargs = src.meta.copy()\n",
    "    kwargs.update({\n",
    "        'crs': DST_CRS,\n",
    "        'transform': transform,\n",
    "        'width': width,\n",
    "        'height': height\n",
    "    })\n",
    "\n",
    "    with rasterio.open(\"new_dem.tif\", 'w', **kwargs) as dst:\n",
    "        for i in range(1, src.count + 1):\n",
    "            reproject(\n",
    "                source=rasterio.band(src, i),\n",
    "                destination=rasterio.band(dst, i),\n",
    "                src_transform=src.transform,\n",
    "                src_crs=src.crs,\n",
    "                dst_transform=transform,\n",
    "                dst_crs=DST_CRS,\n",
    "                resampling=Resampling.nearest)"
   ]
  },
  {
   "cell_type": "code",
   "execution_count": 24,
   "id": "76132523",
   "metadata": {},
   "outputs": [
    {
     "ename": "RasterioIOError",
     "evalue": "/Users/mattw/Desktop/projects/gee-pull/new.tif: No such file or directory",
     "output_type": "error",
     "traceback": [
      "\u001b[0;31m---------------------------------------------------------------------------\u001b[0m",
      "\u001b[0;31mCPLE_OpenFailedError\u001b[0m                      Traceback (most recent call last)",
      "\u001b[0;32mrasterio/_base.pyx\u001b[0m in \u001b[0;36mrasterio._base.DatasetBase.__init__\u001b[0;34m()\u001b[0m\n",
      "\u001b[0;32mrasterio/_shim.pyx\u001b[0m in \u001b[0;36mrasterio._shim.open_dataset\u001b[0;34m()\u001b[0m\n",
      "\u001b[0;32mrasterio/_err.pyx\u001b[0m in \u001b[0;36mrasterio._err.exc_wrap_pointer\u001b[0;34m()\u001b[0m\n",
      "\u001b[0;31mCPLE_OpenFailedError\u001b[0m: /Users/mattw/Desktop/projects/gee-pull/new.tif: No such file or directory",
      "\nDuring handling of the above exception, another exception occurred:\n",
      "\u001b[0;31mRasterioIOError\u001b[0m                           Traceback (most recent call last)",
      "\u001b[0;32m/var/folders/5x/43pcz5nx3jj7yqs8kjnjpxgc0000gn/T/ipykernel_9514/1499181527.py\u001b[0m in \u001b[0;36m<module>\u001b[0;34m\u001b[0m\n\u001b[0;32m----> 1\u001b[0;31m \u001b[0;32mwith\u001b[0m \u001b[0mrasterio\u001b[0m\u001b[0;34m.\u001b[0m\u001b[0mopen\u001b[0m\u001b[0;34m(\u001b[0m\u001b[0;34m\"/Users/mattw/Desktop/projects/gee-pull/new.tif\"\u001b[0m\u001b[0;34m)\u001b[0m \u001b[0;32mas\u001b[0m \u001b[0mf\u001b[0m\u001b[0;34m:\u001b[0m\u001b[0;34m\u001b[0m\u001b[0;34m\u001b[0m\u001b[0m\n\u001b[0m\u001b[1;32m      2\u001b[0m     \u001b[0mlandsat_reprojected_img\u001b[0m \u001b[0;34m=\u001b[0m \u001b[0mf\u001b[0m\u001b[0;34m.\u001b[0m\u001b[0mread\u001b[0m\u001b[0;34m(\u001b[0m\u001b[0;34m)\u001b[0m\u001b[0;34m\u001b[0m\u001b[0;34m\u001b[0m\u001b[0m\n",
      "\u001b[0;32m~/opt/miniconda3/envs/gee-pull/lib/python3.9/site-packages/rasterio/env.py\u001b[0m in \u001b[0;36mwrapper\u001b[0;34m(*args, **kwds)\u001b[0m\n\u001b[1;32m    435\u001b[0m \u001b[0;34m\u001b[0m\u001b[0m\n\u001b[1;32m    436\u001b[0m         \u001b[0;32mwith\u001b[0m \u001b[0menv_ctor\u001b[0m\u001b[0;34m(\u001b[0m\u001b[0msession\u001b[0m\u001b[0;34m=\u001b[0m\u001b[0msession\u001b[0m\u001b[0;34m)\u001b[0m\u001b[0;34m:\u001b[0m\u001b[0;34m\u001b[0m\u001b[0;34m\u001b[0m\u001b[0m\n\u001b[0;32m--> 437\u001b[0;31m             \u001b[0;32mreturn\u001b[0m \u001b[0mf\u001b[0m\u001b[0;34m(\u001b[0m\u001b[0;34m*\u001b[0m\u001b[0margs\u001b[0m\u001b[0;34m,\u001b[0m \u001b[0;34m**\u001b[0m\u001b[0mkwds\u001b[0m\u001b[0;34m)\u001b[0m\u001b[0;34m\u001b[0m\u001b[0;34m\u001b[0m\u001b[0m\n\u001b[0m\u001b[1;32m    438\u001b[0m \u001b[0;34m\u001b[0m\u001b[0m\n\u001b[1;32m    439\u001b[0m     \u001b[0;32mreturn\u001b[0m \u001b[0mwrapper\u001b[0m\u001b[0;34m\u001b[0m\u001b[0;34m\u001b[0m\u001b[0m\n",
      "\u001b[0;32m~/opt/miniconda3/envs/gee-pull/lib/python3.9/site-packages/rasterio/__init__.py\u001b[0m in \u001b[0;36mopen\u001b[0;34m(fp, mode, driver, width, height, count, crs, transform, dtype, nodata, sharing, **kwargs)\u001b[0m\n\u001b[1;32m    218\u001b[0m         \u001b[0;31m# None.\u001b[0m\u001b[0;34m\u001b[0m\u001b[0;34m\u001b[0m\u001b[0m\n\u001b[1;32m    219\u001b[0m         \u001b[0;32mif\u001b[0m \u001b[0mmode\u001b[0m \u001b[0;34m==\u001b[0m \u001b[0;34m'r'\u001b[0m\u001b[0;34m:\u001b[0m\u001b[0;34m\u001b[0m\u001b[0;34m\u001b[0m\u001b[0m\n\u001b[0;32m--> 220\u001b[0;31m             \u001b[0ms\u001b[0m \u001b[0;34m=\u001b[0m \u001b[0mDatasetReader\u001b[0m\u001b[0;34m(\u001b[0m\u001b[0mpath\u001b[0m\u001b[0;34m,\u001b[0m \u001b[0mdriver\u001b[0m\u001b[0;34m=\u001b[0m\u001b[0mdriver\u001b[0m\u001b[0;34m,\u001b[0m \u001b[0msharing\u001b[0m\u001b[0;34m=\u001b[0m\u001b[0msharing\u001b[0m\u001b[0;34m,\u001b[0m \u001b[0;34m**\u001b[0m\u001b[0mkwargs\u001b[0m\u001b[0;34m)\u001b[0m\u001b[0;34m\u001b[0m\u001b[0;34m\u001b[0m\u001b[0m\n\u001b[0m\u001b[1;32m    221\u001b[0m         \u001b[0;32melif\u001b[0m \u001b[0mmode\u001b[0m \u001b[0;34m==\u001b[0m \u001b[0;34m\"r+\"\u001b[0m\u001b[0;34m:\u001b[0m\u001b[0;34m\u001b[0m\u001b[0;34m\u001b[0m\u001b[0m\n\u001b[1;32m    222\u001b[0m             s = get_writer_for_path(path, driver=driver)(\n",
      "\u001b[0;32mrasterio/_base.pyx\u001b[0m in \u001b[0;36mrasterio._base.DatasetBase.__init__\u001b[0;34m()\u001b[0m\n",
      "\u001b[0;31mRasterioIOError\u001b[0m: /Users/mattw/Desktop/projects/gee-pull/new.tif: No such file or directory"
     ]
    }
   ],
   "source": [
    "with rasterio.open(\"/Users/mattw/Desktop/projects/gee-pull/new.tif\") as f:\n",
    "    landsat_reprojected_img = f.read()"
   ]
  },
  {
   "cell_type": "code",
   "execution_count": 26,
   "id": "b2dd8c9a",
   "metadata": {},
   "outputs": [],
   "source": [
    "with rasterio.open(\"/Users/mattw/Desktop/projects/GlacierView/gee-pull/new_dem.tif\") as f:\n",
    "    dem_reprojected_img = f.read()"
   ]
  },
  {
   "cell_type": "markdown",
   "id": "c26ac912",
   "metadata": {},
   "source": [
    "My research suggests different shapes because of slight variations in resolution. For example, some Landsat images may be at 30m while others are at 29m. "
   ]
  },
  {
   "cell_type": "code",
   "execution_count": 27,
   "id": "0dc20be3",
   "metadata": {},
   "outputs": [
    {
     "ename": "NameError",
     "evalue": "name 'landsat_reprojected_img' is not defined",
     "output_type": "error",
     "traceback": [
      "\u001b[0;31m---------------------------------------------------------------------------\u001b[0m",
      "\u001b[0;31mNameError\u001b[0m                                 Traceback (most recent call last)",
      "\u001b[0;32m/var/folders/5x/43pcz5nx3jj7yqs8kjnjpxgc0000gn/T/ipykernel_9514/2409261973.py\u001b[0m in \u001b[0;36m<module>\u001b[0;34m\u001b[0m\n\u001b[1;32m      1\u001b[0m print(f\"Landsat shape: {landsat_img.shape}\", \"\\n\",\n\u001b[0;32m----> 2\u001b[0;31m       \u001b[0;34mf\"Reprojected Landsat shape: {landsat_reprojected_img.shape}\"\u001b[0m\u001b[0;34m,\u001b[0m \u001b[0;34m\"\\n\"\u001b[0m\u001b[0;34m,\u001b[0m\u001b[0;34m\u001b[0m\u001b[0;34m\u001b[0m\u001b[0m\n\u001b[0m\u001b[1;32m      3\u001b[0m       \u001b[0;34mf\"DEM shape:{dem_img.shape}\"\u001b[0m\u001b[0;34m,\u001b[0m \u001b[0;34m\"\\n\"\u001b[0m\u001b[0;34m,\u001b[0m\u001b[0;34m\u001b[0m\u001b[0;34m\u001b[0m\u001b[0m\n\u001b[1;32m      4\u001b[0m       f\"Reprojected DEM shape: {dem_reprojected_img.shape}\")\n",
      "\u001b[0;31mNameError\u001b[0m: name 'landsat_reprojected_img' is not defined"
     ]
    }
   ],
   "source": [
    "print(f\"Landsat shape: {landsat_img.shape}\", \"\\n\",\n",
    "      f\"Reprojected Landsat shape: {landsat_reprojected_img.shape}\", \"\\n\", \n",
    "      f\"DEM shape:{dem_img.shape}\", \"\\n\",\n",
    "      f\"Reprojected DEM shape: {dem_reprojected_img.shape}\")"
   ]
  },
  {
   "cell_type": "code",
   "execution_count": 65,
   "id": "68d47c9a",
   "metadata": {},
   "outputs": [],
   "source": [
    "dem = np.rollaxis(dem_reprojected_img,0,3)\n",
    "dem = np.where(dem < 500,1750,dem)"
   ]
  },
  {
   "cell_type": "code",
   "execution_count": 73,
   "id": "f9134172",
   "metadata": {},
   "outputs": [
    {
     "data": {
      "text/plain": [
       "<matplotlib.image.AxesImage at 0x122ce9e80>"
      ]
     },
     "execution_count": 73,
     "metadata": {},
     "output_type": "execute_result"
    },
    {
     "data": {
      "image/png": "[encoded data removed]",
      "text/plain": [
       "<Figure size 432x288 with 1 Axes>"
      ]
     },
     "metadata": {
      "needs_background": "light"
     },
     "output_type": "display_data"
    }
   ],
   "source": [
    "plt.imshow(dem[:,:,0])"
   ]
  },
  {
   "cell_type": "code",
   "execution_count": 69,
   "id": "07947423",
   "metadata": {},
   "outputs": [
    {
     "data": {
      "text/plain": [
       "(array([[ 6., 12., 14., ..., 33., 57., 10.],\n",
       "        [ 8., 10., 14., ..., 33., 54., 14.],\n",
       "        [ 9.,  9., 15., ..., 31., 53., 17.],\n",
       "        ...,\n",
       "        [ 0.,  0.,  0., ..., 62., 24.,  0.],\n",
       "        [ 0.,  0.,  0., ..., 63., 24.,  0.],\n",
       "        [ 0.,  0.,  0., ..., 68., 19.,  0.]]),\n",
       " array([1740., 1916., 2092., 2268., 2444., 2620., 2796., 2972., 3148.,\n",
       "        3324., 3500.]),\n",
       " <a list of 142 BarContainer objects>)"
      ]
     },
     "execution_count": 69,
     "metadata": {},
     "output_type": "execute_result"
    },
    {
     "data": {
      "image/png": "[encoded data removed]",
      "text/plain": [
       "<Figure size 432x288 with 1 Axes>"
      ]
     },
     "metadata": {
      "needs_background": "light"
     },
     "output_type": "display_data"
    }
   ],
   "source": [
    "plt.hist(dem[:,:,0])"
   ]
  },
  {
   "cell_type": "code",
   "execution_count": null,
   "id": "c8fcbbd5",
   "metadata": {},
   "outputs": [],
   "source": []
  }
 ],
 "metadata": {
  "kernelspec": {
   "display_name": "Python 3 (ipykernel)",
   "language": "python",
   "name": "python3"
  },
  "language_info": {
   "codemirror_mode": {
    "name": "ipython",
    "version": 3
   },
   "file_extension": ".py",
   "mimetype": "text/x-python",
   "name": "python",
   "nbconvert_exporter": "python",
   "pygments_lexer": "ipython3",
   "version": "3.9.7"
  }
 },
 "nbformat": 4,
 "nbformat_minor": 5
}
