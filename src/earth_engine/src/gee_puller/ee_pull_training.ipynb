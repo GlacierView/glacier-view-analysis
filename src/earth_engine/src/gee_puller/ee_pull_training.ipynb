{
 "cells": [
  {
   "cell_type": "code",
   "execution_count": 2,
   "id": "hairy-length",
   "metadata": {},
   "outputs": [],
   "source": [
    "import ee \n",
    "from datetime import datetime\n",
    "from datetime import timedelta\n",
    "import os\n",
    "import geemap\n",
    "import logging\n",
    "import geopandas as gpd\n",
    "import pandas as pd\n",
    "import matplotlib.pyplot as plt\n",
    "import ee_helpers"
   ]
  },
  {
   "cell_type": "code",
   "execution_count": null,
   "id": "placed-wrist",
   "metadata": {},
   "outputs": [],
   "source": [
    "# Trigger the authentication flow\n",
    "ee.Authenticate()\n",
    "\n",
    "# Initialize the library\n",
    "ee.Initialize()"
   ]
  },
  {
   "cell_type": "code",
   "execution_count": 3,
   "id": "76e6491b",
   "metadata": {},
   "outputs": [],
   "source": [
    "glacier_view_dir = os.path.join(os.path.expanduser('~'),\"Desktop\",\"projects\",\"GlacierView\")\n",
    "glims_bb_path = os.path.join(glacier_view_dir,\"src\",\"glims\",\"data\",\"training_sample\",\"glims_18k_bb.shp\")\n",
    "df = gpd.read_file(glims_bb_path)"
   ]
  },
  {
   "cell_type": "code",
   "execution_count": null,
   "id": "96d5c1cc",
   "metadata": {},
   "outputs": [],
   "source": [
    "#only use if you want to resume training\n",
    "\n",
    "#done_df = pd.read_csv(\"/Users/mattw/Desktop/projects/gee-pull/data/training_logs/Batch 1/training_log.log\", header = None)\n",
    "#done_glims_ids = [row.split(\":\")[3][1:] for row in done_df[1]]\n",
    "\n",
    "#df = df[~df.glac_id.isin(done_glims_ids)]"
   ]
  },
  {
   "cell_type": "code",
   "execution_count": 4,
   "id": "c8bd2434",
   "metadata": {},
   "outputs": [],
   "source": [
    "df = df.sample(frac=1).reset_index(drop=True)\n",
    "n = df.shape[0]"
   ]
  },
  {
   "cell_type": "code",
   "execution_count": 5,
   "id": "350b59c1",
   "metadata": {},
   "outputs": [
    {
     "data": {
      "text/plain": [
       "18093"
      ]
     },
     "execution_count": 5,
     "metadata": {},
     "output_type": "execute_result"
    }
   ],
   "source": [
    "n"
   ]
  },
  {
   "cell_type": "code",
   "execution_count": null,
   "id": "7ebc0da0",
   "metadata": {},
   "outputs": [],
   "source": [
    "for idx,row in enumerate(df.iterrows()):\n",
    "    glims_id = row[1].glac_id\n",
    "    bounding_box = eval(row[1].bboxes)\n",
    "    date = row[1].src_date.split(\"T\")[0]\n",
    "    date = datetime.strptime(date, '%Y-%m-%d')\n",
    "    out_dir = os.path.join(glacier_view_dir,\"src\",\"earth_engine\",\"data\",\"ee_landing_zone\",\n",
    "                           \"localized_time_series_for_segmentation_training_large\",\"landsat\",glims_id)\n",
    "    if not os.path.exists(out_dir):\n",
    "        os.mkdir(out_dir)\n",
    "    \n",
    "    start_date = date - timedelta(days = 50)\n",
    "    end_date = date + timedelta(days = 50)\n",
    "    try:\n",
    "        ee_helpers.export_landsat_five_images(glims_id,\n",
    "                                                  bounding_box,\n",
    "                                                  start_date,\n",
    "                                                  end_date,\n",
    "                                                  out_dir,\n",
    "                                                  cloudy_pixel_percentage = 200,\n",
    "                                             )\n",
    "    except:\n",
    "        pass\n",
    "    \n",
    "    try:\n",
    "        ee_helpers.export_landsat_seven_images(glims_id,\n",
    "                                              bounding_box,\n",
    "                                              start_date,\n",
    "                                              end_date,\n",
    "                                              out_dir,\n",
    "                                              cloudy_pixel_percentage = 200,\n",
    "                                              )\n",
    "    except:\n",
    "        pass\n",
    "        \n",
    "    try:\n",
    "        ee_helpers.export_landsat_eight_images(glims_id,\n",
    "                                              bounding_box,\n",
    "                                              start_date,\n",
    "                                              end_date,\n",
    "                                              out_dir,\n",
    "                                              cloudy_pixel_percentage = 200,\n",
    "                                              )\n",
    "    except:\n",
    "        pass\n",
    "    \n",
    "    print(f\"################ COMPLETED PULL FOR {glims_id}, {idx+1}/{n} REMAINING ################\")"
   ]
  },
  {
   "cell_type": "code",
   "execution_count": null,
   "id": "658e9c89",
   "metadata": {},
   "outputs": [],
   "source": [
    "os.mkdir(\"data/training/dems\")\n",
    "for row in df.iterrows():\n",
    "    glims_id = row[1].glac_id\n",
    "    bounding_box = eval(row[1].bboxes)\n",
    "    out_dir = os.path.join(\"data\",\"training\",\"dems\")\n",
    "    try:\n",
    "        ee_helpers.export_nasa_dems(glims_id, bounding_box, out_dir)\n",
    "    except:\n",
    "        pass"
   ]
  },
  {
   "cell_type": "code",
   "execution_count": null,
   "id": "75027fc2",
   "metadata": {},
   "outputs": [],
   "source": [
    "pd.Series(completed).to_csv(\"completed_batch_1.csv\")"
   ]
  },
  {
   "cell_type": "code",
   "execution_count": null,
   "id": "5c30648b",
   "metadata": {},
   "outputs": [],
   "source": []
  }
 ],
 "metadata": {
  "kernelspec": {
   "display_name": "Python 3",
   "language": "python",
   "name": "python3"
  },
  "language_info": {
   "codemirror_mode": {
    "name": "ipython",
    "version": 3
   },
   "file_extension": ".py",
   "mimetype": "text/x-python",
   "name": "python",
   "nbconvert_exporter": "python",
   "pygments_lexer": "ipython3",
   "version": "3.8.12"
  }
 },
 "nbformat": 4,
 "nbformat_minor": 5
}
