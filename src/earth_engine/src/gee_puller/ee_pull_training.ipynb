{
 "cells": [
  {
   "cell_type": "code",
   "execution_count": null,
   "id": "hairy-length",
   "metadata": {},
   "outputs": [],
   "source": [
    "import importlib\n",
    "itertools = importlib.import_module('ee_helpers')\n",
    "\n",
    "import ee \n",
    "from datetime import datetime\n",
    "from datetime import timedelta\n",
    "import os\n",
    "import geemap\n",
    "import geopandas as gpd\n",
    "from ee_helpers import EePull\n",
    "import pandas as pd\n",
    "import numpy as np\n",
    "import rasterio"
   ]
  },
  {
   "cell_type": "code",
   "execution_count": null,
   "id": "placed-wrist",
   "metadata": {},
   "outputs": [],
   "source": [
    "# Trigger the authentication flow\n",
    "ee.Authenticate()\n",
    "\n",
    "# Initialize the library\n",
    "ee.Initialize()"
   ]
  },
  {
   "cell_type": "code",
   "execution_count": null,
   "id": "45d6a061",
   "metadata": {},
   "outputs": [],
   "source": [
    "data_label = \"localized_time_series_for_training_c02_t1_l2\"\n",
    "batch_num = 1\n",
    "glacier_view_dir = os.path.join(os.path.expanduser('~'),\"Desktop\",\"projects\",\"GlacierView\")\n",
    "log_dir = os.path.join(glacier_view_dir,\"src\",\"earth_engine\",\"data\",\"ee_landing_zone\",data_label, \"logs\")\n",
    "image_dir = os.path.join(glacier_view_dir,\"src\",\"earth_engine\",\"data\",\"ee_landing_zone\",data_label, \"landsat\")"
   ]
  },
  {
   "cell_type": "code",
   "execution_count": null,
   "id": "d8f27f16",
   "metadata": {},
   "outputs": [],
   "source": [
    "ee_pull = EePull(log_dir, \"full_training_data\")"
   ]
  },
  {
   "cell_type": "code",
   "execution_count": null,
   "id": "76e6491b",
   "metadata": {},
   "outputs": [],
   "source": [
    "glims_bb_path = os.path.join(glacier_view_dir,\"src\",\"glims\",\"data\",\"training_sample\",\"glims_18k_bb.shp\")\n",
    "df = gpd.read_file(glims_bb_path)"
   ]
  },
  {
   "cell_type": "code",
   "execution_count": null,
   "id": "5181888c",
   "metadata": {},
   "outputs": [],
   "source": [
    "df.bboxes[0]"
   ]
  },
  {
   "cell_type": "code",
   "execution_count": null,
   "id": "96d5c1cc",
   "metadata": {},
   "outputs": [],
   "source": [
    "#only use if you want to resume training\n",
    "\n",
    "done_df = pd.read_csv(os.path.join(log_dir,\"training_log_1.log\"), header = None, delimiter = ';')\n",
    "done_glims_ids = list(np.unique([item.split(\":\")[-1] for item in done_df[0]]))\n",
    "\n",
    "df = df[~df.glac_id.isin(done_glims_ids)]"
   ]
  },
  {
   "cell_type": "code",
   "execution_count": null,
   "id": "1247ec10",
   "metadata": {},
   "outputs": [],
   "source": [
    "df"
   ]
  },
  {
   "cell_type": "code",
   "execution_count": null,
   "id": "4302e31d",
   "metadata": {},
   "outputs": [],
   "source": [
    "df.shape"
   ]
  },
  {
   "cell_type": "code",
   "execution_count": null,
   "id": "4b7256d4",
   "metadata": {},
   "outputs": [],
   "source": [
    "len(done_glims_ids)"
   ]
  },
  {
   "cell_type": "code",
   "execution_count": null,
   "id": "05e56669",
   "metadata": {},
   "outputs": [],
   "source": [
    "df.shape"
   ]
  },
  {
   "cell_type": "code",
   "execution_count": null,
   "id": "c8bd2434",
   "metadata": {},
   "outputs": [],
   "source": [
    "#shuffle the dataset\n",
    "df = df.sample(frac=1).reset_index(drop=True)\n",
    "n = df.shape[0]"
   ]
  },
  {
   "cell_type": "code",
   "execution_count": null,
   "id": "0f56a484",
   "metadata": {},
   "outputs": [],
   "source": [
    "for idx,row in enumerate(df.iterrows()):\n",
    "    glims_id = row[1].glac_id\n",
    "    bounding_box = eval(row[1].bboxes)\n",
    "    date = row[1].src_date.split(\"T\")[0]\n",
    "    date = datetime.strptime(date, '%Y-%m-%d')\n",
    "    out_dir = os.path.join(image_dir,glims_id)\n",
    "    if not os.path.exists(out_dir):\n",
    "        os.mkdir(out_dir)\n",
    "    \n",
    "    start_date = date - timedelta(days = 50)\n",
    "    end_date = date + timedelta(days = 50)\n",
    "    \n",
    "    try:\n",
    "        ee_pull.export_landsat_five_images(glims_id,\n",
    "                                            bounding_box,\n",
    "                                            start_date,\n",
    "                                            end_date,\n",
    "                                            out_dir)\n",
    "    except:\n",
    "        pass\n",
    "    \n",
    "    try:\n",
    "        ee_pull.export_landsat_seven_images(glims_id,\n",
    "                                            bounding_box,\n",
    "                                            start_date,\n",
    "                                            end_date,\n",
    "                                            out_dir)\n",
    "    except:\n",
    "        pass\n",
    "    try:\n",
    "        ee_pull.export_landsat_eight_images(glims_id,\n",
    "                                            bounding_box,\n",
    "                                            start_date,\n",
    "                                            end_date,\n",
    "                                            out_dir)\n",
    "    except:\n",
    "        pass"
   ]
  },
  {
   "cell_type": "code",
   "execution_count": null,
   "id": "658e9c89",
   "metadata": {},
   "outputs": [],
   "source": [
    "os.mkdir(\"data/training/dems\")\n",
    "for row in df.iterrows():\n",
    "    glims_id = row[1].glac_id\n",
    "    bounding_box = eval(row[1].bboxes)\n",
    "    out_dir = os.path.join(\"data\",\"training\",\"dems\")\n",
    "    try:\n",
    "        ee_helpers.export_nasa_dems(glims_id, bounding_box, out_dir)\n",
    "    except:\n",
    "        pass"
   ]
  },
  {
   "cell_type": "code",
   "execution_count": null,
   "id": "75027fc2",
   "metadata": {},
   "outputs": [],
   "source": [
    "pd.Series(completed).to_csv(\"completed_batch_1.csv\")"
   ]
  }
 ],
 "metadata": {
  "kernelspec": {
   "display_name": "Python 3",
   "language": "python",
   "name": "python3"
  },
  "language_info": {
   "codemirror_mode": {
    "name": "ipython",
    "version": 3
   },
   "file_extension": ".py",
   "mimetype": "text/x-python",
   "name": "python",
   "nbconvert_exporter": "python",
   "pygments_lexer": "ipython3",
   "version": "3.8.12"
  }
 },
 "nbformat": 4,
 "nbformat_minor": 5
}
