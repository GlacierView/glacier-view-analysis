{
 "cells": [
  {
   "cell_type": "code",
   "execution_count": 45,
   "id": "e739b3bb",
   "metadata": {},
   "outputs": [],
   "source": [
    "import ee \n",
    "from datetime import datetime\n",
    "import os\n",
    "import geemap\n",
    "from ee_helpers import EePull\n",
    "import geopandas as gpd\n",
    "import pandas as pd"
   ]
  },
  {
   "cell_type": "code",
   "execution_count": 46,
   "id": "54583f40",
   "metadata": {},
   "outputs": [
    {
     "data": {
      "text/html": [
       "<p>To authorize access needed by Earth Engine, open the following\n",
       "        URL in a web browser and follow the instructions:</p>\n",
       "        <p><a href=https://code.earthengine.google.com/client-auth?scopes=https%3A//www.googleapis.com/auth/earthengine%20https%3A//www.googleapis.com/auth/devstorage.full_control&request_id=LQMIS750rMRFCko4oGgYhR2VrhhsEQW-NxenYtd95ao&tc=xyvdATGrhvVrvChLrNMyvuzbUfvB0hEzzWB1O_cVm7I&cc=olnwvYEC5RKje6h-eQaSG0tXVbV1k-zv4aDWKzF2zRk>https://code.earthengine.google.com/client-auth?scopes=https%3A//www.googleapis.com/auth/earthengine%20https%3A//www.googleapis.com/auth/devstorage.full_control&request_id=LQMIS750rMRFCko4oGgYhR2VrhhsEQW-NxenYtd95ao&tc=xyvdATGrhvVrvChLrNMyvuzbUfvB0hEzzWB1O_cVm7I&cc=olnwvYEC5RKje6h-eQaSG0tXVbV1k-zv4aDWKzF2zRk</a></p>\n",
       "        <p>The authorization workflow will generate a code, which you should paste in the box below.</p>\n",
       "        "
      ],
      "text/plain": [
       "<IPython.core.display.HTML object>"
      ]
     },
     "metadata": {},
     "output_type": "display_data"
    },
    {
     "name": "stdout",
     "output_type": "stream",
     "text": [
      "Enter verification code: 4/1AbUR2VMrCT7sdOGF1chuMVN4Y6_798eF6JpCc9q00NeJyDQyqE6ZEBUN5V4\n",
      "\n",
      "Successfully saved authorization token.\n"
     ]
    }
   ],
   "source": [
    "# Trigger the authentication flow\n",
    "ee.Authenticate()\n",
    "\n",
    "# Initialize the library\n",
    "ee.Initialize()"
   ]
  },
  {
   "cell_type": "code",
   "execution_count": 47,
   "id": "365c6fdb",
   "metadata": {},
   "outputs": [],
   "source": [
    "data_label = \"full_time_series_c02_t1_l2\"\n",
    "batch_num = 1\n",
    "glacier_view_dir = os.path.join(os.path.expanduser('~'),\"Desktop\",\"projects\",\"GlacierView\")\n",
    "log_dir = os.path.join(glacier_view_dir,\"src\",\"earth_engine\",\"data\",\"ee_landing_zone\",data_label, \"logs\")\n",
    "image_dir = os.path.join(glacier_view_dir,\"src\",\"earth_engine\",\"data\",\"ee_landing_zone\",data_label, \"landsat\")"
   ]
  },
  {
   "cell_type": "code",
   "execution_count": 48,
   "id": "21aeb6b4",
   "metadata": {},
   "outputs": [],
   "source": [
    "ee_pull = EePull(log_dir, batch_num)"
   ]
  },
  {
   "cell_type": "code",
   "execution_count": 49,
   "id": "eb39bdb7",
   "metadata": {},
   "outputs": [],
   "source": [
    "glims_bb_path = os.path.join(glacier_view_dir,\"src\",\"glims\",\"data\",\"joined_time_series\",\"joined_474_bb.shp\")\n",
    "df = gpd.read_file(glims_bb_path)\n",
    "df = df[df.glac_id == 'G007026E45991N'] # trient only"
   ]
  },
  {
   "cell_type": "code",
   "execution_count": 50,
   "id": "6f7ba34b",
   "metadata": {},
   "outputs": [
    {
     "name": "stdout",
     "output_type": "stream",
     "text": [
      "1\n"
     ]
    }
   ],
   "source": [
    "df = df.sample(frac=1).reset_index(drop=True)\n",
    "n=df.shape[0]\n",
    "print(n)"
   ]
  },
  {
   "cell_type": "code",
   "execution_count": 51,
   "id": "8d587b3b",
   "metadata": {},
   "outputs": [],
   "source": [
    "start_date = datetime(1980,1,1)\n",
    "end_date = datetime(2021,11,17)"
   ]
  },
  {
   "cell_type": "code",
   "execution_count": 56,
   "id": "ac631f23",
   "metadata": {},
   "outputs": [],
   "source": [
    "region = ee.Geometry.Polygon(bounding_box)"
   ]
  },
  {
   "cell_type": "code",
   "execution_count": 62,
   "id": "88ce0822",
   "metadata": {},
   "outputs": [
    {
     "ename": "TypeError",
     "evalue": "export_landsat_eight_images() got multiple values for argument 'glims_id'",
     "output_type": "error",
     "traceback": [
      "\u001b[0;31m---------------------------------------------------------------------------\u001b[0m",
      "\u001b[0;31mTypeError\u001b[0m                                 Traceback (most recent call last)",
      "Input \u001b[0;32mIn [62]\u001b[0m, in \u001b[0;36m<module>\u001b[0;34m\u001b[0m\n\u001b[1;32m      5\u001b[0m \u001b[38;5;28;01mif\u001b[39;00m \u001b[38;5;129;01mnot\u001b[39;00m os\u001b[38;5;241m.\u001b[39mpath\u001b[38;5;241m.\u001b[39mexists(out_dir):\n\u001b[1;32m      6\u001b[0m     os\u001b[38;5;241m.\u001b[39mmkdir(out_dir)\n\u001b[0;32m----> 9\u001b[0m \u001b[43mee_pull\u001b[49m\u001b[38;5;241;43m.\u001b[39;49m\u001b[43mexport_landsat_eight_images\u001b[49m\u001b[43m(\u001b[49m\n\u001b[1;32m     10\u001b[0m \u001b[43m                                    \u001b[49m\u001b[43mglims_id\u001b[49m\u001b[43m \u001b[49m\u001b[38;5;241;43m=\u001b[39;49m\u001b[43m \u001b[49m\u001b[43mglims_id\u001b[49m\u001b[43m,\u001b[49m\n\u001b[1;32m     11\u001b[0m \u001b[43m                                    \u001b[49m\u001b[43mbounding_box\u001b[49m\u001b[43m \u001b[49m\u001b[38;5;241;43m=\u001b[39;49m\u001b[43m \u001b[49m\u001b[43mbounding_box\u001b[49m\u001b[43m,\u001b[49m\n\u001b[1;32m     12\u001b[0m \u001b[43m                                    \u001b[49m\u001b[43mstart_date\u001b[49m\u001b[43m \u001b[49m\u001b[38;5;241;43m=\u001b[39;49m\u001b[43m \u001b[49m\u001b[43mstart_date\u001b[49m\u001b[43m,\u001b[49m\n\u001b[1;32m     13\u001b[0m \u001b[43m                                    \u001b[49m\u001b[43mend_date\u001b[49m\u001b[43m \u001b[49m\u001b[38;5;241;43m=\u001b[39;49m\u001b[43m \u001b[49m\u001b[43mend_date\u001b[49m\u001b[43m,\u001b[49m\n\u001b[1;32m     14\u001b[0m \u001b[43m                                    \u001b[49m\u001b[43mout_dir\u001b[49m\u001b[43m \u001b[49m\u001b[38;5;241;43m=\u001b[39;49m\u001b[43m \u001b[49m\u001b[43mout_dir\u001b[49m\n\u001b[1;32m     15\u001b[0m \u001b[43m\u001b[49m\u001b[43m)\u001b[49m\n",
      "\u001b[0;31mTypeError\u001b[0m: export_landsat_eight_images() got multiple values for argument 'glims_id'"
     ]
    }
   ],
   "source": [
    "for idx,row in enumerate(df.iterrows()):\n",
    "    glims_id = row[1].glac_id\n",
    "    bounding_box = eval(row[1].bboxes)\n",
    "    out_dir = os.path.join(image_dir,glims_id)\n",
    "    if not os.path.exists(out_dir):\n",
    "        os.mkdir(out_dir)\n",
    "    \n",
    "    try:\n",
    "        ee_pull.export_landsat_five_images(\n",
    "                                                glims_id,\n",
    "                                                  bounding_box,\n",
    "                                                  start_date,\n",
    "                                                  end_date,\n",
    "                                                  out_dir,\n",
    "                                                  cloudy_pixel_percentage = 50)\n",
    "    except:\n",
    "        pass\n",
    "\n",
    "    try:\n",
    "        ee_pull.export_landsat_seven_images(glims_id,\n",
    "                                                  bounding_box,\n",
    "                                                  start_date,\n",
    "                                                  end_date,\n",
    "                                                  out_dir,\n",
    "                                                  cloudy_pixel_percentage = 50)\n",
    "    except:\n",
    "        pass\n",
    "\n",
    "    try:\n",
    "        ee_pull.export_landsat_eight_images(glims_id,\n",
    "                                                  bounding_box,\n",
    "                                                  start_date,\n",
    "                                                  end_date,\n",
    "                                                  out_dir,\n",
    "                                                  cloudy_pixel_percentage = 50)\n",
    "    except:\n",
    "        pass"
   ]
  },
  {
   "cell_type": "code",
   "execution_count": null,
   "id": "a1d5c8e6",
   "metadata": {},
   "outputs": [],
   "source": [
    "# log_df_1 = pd.read_csv(\"...\")\n",
    "# done_in_batch_1 = [row.split(\": \")[1] for row in log_df_1.iloc[:,1]]\n",
    "# log_df_2 = pd.read_csv(\"...\")\n",
    "# done_in_batch_2 = [row.split(\": \")[1] for row in log_df_2.iloc[:,1]]\n",
    "# b1 = set(done_in_batch_1)\n",
    "# b2 = set(done_in_batch_2)\n",
    "# print(\n",
    "#     \" Batch 1 has {} glaciers\\n\".format(len(b1)),\n",
    "#     \"Batch 2 has {} glaciers\\n\".format(len(b2)),\n",
    "#     \"Therefore {} glaciers remain\".format(474-(len(b1) + len(b2) - 4 )))\n",
    "# ...\n",
    "# df = df[~df.glac_id.isin(set.union(b1,b2))]"
   ]
  }
 ],
 "metadata": {
  "kernelspec": {
   "display_name": "Python 3",
   "language": "python",
   "name": "python3"
  },
  "language_info": {
   "codemirror_mode": {
    "name": "ipython",
    "version": 3
   },
   "file_extension": ".py",
   "mimetype": "text/x-python",
   "name": "python",
   "nbconvert_exporter": "python",
   "pygments_lexer": "ipython3",
   "version": "3.8.12"
  }
 },
 "nbformat": 4,
 "nbformat_minor": 5
}
