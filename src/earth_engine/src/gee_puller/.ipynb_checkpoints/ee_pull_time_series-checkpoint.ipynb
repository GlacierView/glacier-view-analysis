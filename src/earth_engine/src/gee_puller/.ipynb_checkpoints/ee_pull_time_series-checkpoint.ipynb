{
 "cells": [
  {
   "cell_type": "code",
   "execution_count": null,
   "id": "e739b3bb",
   "metadata": {},
   "outputs": [],
   "source": [
    "import ee \n",
    "from datetime import datetime\n",
    "import os\n",
    "import geemap\n",
    "import ee_helpers\n",
    "import geopandas as gpd\n",
    "import pandas as pd"
   ]
  },
  {
   "cell_type": "code",
   "execution_count": null,
   "id": "54583f40",
   "metadata": {},
   "outputs": [],
   "source": [
    "# Trigger the authentication flow\n",
    "ee.Authenticate()\n",
    "\n",
    "# Initialize the library\n",
    "ee.Initialize()"
   ]
  },
  {
   "cell_type": "code",
   "execution_count": null,
   "id": "d3293d8d",
   "metadata": {},
   "outputs": [],
   "source": [
    "log_df_1 = pd.read_csv(\"/Users/mattw/Desktop/projects/gee-pull/data/time_series_batches/Batch 1/time_series_log .log\")\n",
    "done_in_batch_1 = [row.split(\": \")[1] for row in log_df_1.iloc[:,1]]"
   ]
  },
  {
   "cell_type": "code",
   "execution_count": null,
   "id": "b53ad84f",
   "metadata": {},
   "outputs": [],
   "source": [
    "log_df_2 = pd.read_csv(\"/Users/mattw/Desktop/projects/gee-pull/data/time_series_batches/Batch 2/time_series_log.log\")\n",
    "done_in_batch_2 = [row.split(\": \")[1] for row in log_df_2.iloc[:,1]]\n"
   ]
  },
  {
   "cell_type": "code",
   "execution_count": null,
   "id": "97d3c966",
   "metadata": {},
   "outputs": [],
   "source": [
    "b1 = set(done_in_batch_1)\n",
    "b2 = set(done_in_batch_2)"
   ]
  },
  {
   "cell_type": "code",
   "execution_count": null,
   "id": "3886d213",
   "metadata": {},
   "outputs": [],
   "source": [
    "print(\n",
    "    \" Batch 1 has {} glaciers\\n\".format(len(b1)),\n",
    "    \"Batch 2 has {} glaciers\\n\".format(len(b2)),\n",
    "    \"Therefore {} glaciers remain\".format(474-(len(b1) + len(b2) - 4 )))"
   ]
  },
  {
   "cell_type": "code",
   "execution_count": null,
   "id": "eb39bdb7",
   "metadata": {},
   "outputs": [],
   "source": [
    "read_dir = os.path.join(os.path.expanduser('~'),\"Desktop\",\"projects\",\"glims-processor\",\"output\")\n",
    "read_file = \"joined_474_bb.shp\"\n",
    "df = gpd.read_file(os.path.join(read_dir,read_file))"
   ]
  },
  {
   "cell_type": "code",
   "execution_count": null,
   "id": "19926c18",
   "metadata": {},
   "outputs": [],
   "source": [
    "df = df[~df.glac_id.isin(set.union(b1,b2))]"
   ]
  },
  {
   "cell_type": "code",
   "execution_count": null,
   "id": "6f7ba34b",
   "metadata": {},
   "outputs": [],
   "source": [
    "df = df.sample(frac=1).reset_index(drop=True)\n",
    "n=df.shape[0]\n",
    "print(n)"
   ]
  },
  {
   "cell_type": "code",
   "execution_count": null,
   "id": "8d587b3b",
   "metadata": {},
   "outputs": [],
   "source": [
    "start_date = datetime(1980,1,1)\n",
    "end_date = datetime(2021,11,17)"
   ]
  },
  {
   "cell_type": "code",
   "execution_count": null,
   "id": "88ce0822",
   "metadata": {},
   "outputs": [],
   "source": [
    "for idx,row in enumerate(df.iterrows()):\n",
    "    glims_id = row[1].glac_id\n",
    "    bounding_box = eval(row[1].bboxes)\n",
    "\n",
    "    out_dir = os.path.join(\"data\",\"time_series\",glims_id)\n",
    "    if not os.path.exists(out_dir):\n",
    "        os.mkdir(out_dir)\n",
    "    \n",
    "    try:\n",
    "        ee_helpers.export_landsat_five_images(glims_id,\n",
    "                                                  bounding_box,\n",
    "                                                  start_date,\n",
    "                                                  end_date,\n",
    "                                                  out_dir,\n",
    "                                                  cloudy_pixel_percentage = 50)\n",
    "    except:\n",
    "        pass\n",
    "\n",
    "    try:\n",
    "        ee_helpers.export_landsat_seven_images(glims_id,\n",
    "                                                  bounding_box,\n",
    "                                                  start_date,\n",
    "                                                  end_date,\n",
    "                                                  out_dir,\n",
    "                                                  cloudy_pixel_percentage = 50)\n",
    "    except:\n",
    "        pass\n",
    "\n",
    "    try:\n",
    "        ee_helpers.export_landsat_eight_images(glims_id,\n",
    "                                                  bounding_box,\n",
    "                                                  start_date,\n",
    "                                                  end_date,\n",
    "                                                  out_dir,\n",
    "                                                  cloudy_pixel_percentage = 50)\n",
    "    except:\n",
    "        pass"
   ]
  },
  {
   "cell_type": "code",
   "execution_count": null,
   "id": "a1d5c8e6",
   "metadata": {},
   "outputs": [],
   "source": []
  }
 ],
 "metadata": {
  "kernelspec": {
   "display_name": "Python 3",
   "language": "python",
   "name": "python3"
  },
  "language_info": {
   "codemirror_mode": {
    "name": "ipython",
    "version": 3
   },
   "file_extension": ".py",
   "mimetype": "text/x-python",
   "name": "python",
   "nbconvert_exporter": "python",
   "pygments_lexer": "ipython3",
   "version": "3.8.12"
  }
 },
 "nbformat": 4,
 "nbformat_minor": 5
}
