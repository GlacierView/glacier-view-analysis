{
 "cells": [
  {
   "cell_type": "code",
   "execution_count": 31,
   "id": "90300ce3",
   "metadata": {},
   "outputs": [],
   "source": [
    "import os\n",
    "import numpy as np\n",
    "import pandas as pd\n",
    "import cv2\n",
    "from PIL import Image\n",
    "import rasterio\n",
    "import matplotlib.pyplot as plt\n",
    "import sys\n",
    "sys.path.insert(0, os.path.join(os.path.expanduser(\"~\"),\"Desktop\",\"projects\", \"GlacierView\",\"src\",\"common\",\"modules\"))\n",
    "import constants\n",
    "import pickle\n",
    "from sklearn.utils.class_weight import compute_class_weight\n",
    "from sklearn.model_selection import train_test_split"
   ]
  },
  {
   "cell_type": "code",
   "execution_count": 24,
   "id": "da2b18bc",
   "metadata": {},
   "outputs": [],
   "source": [
    "gv_data_dir = os.path.join(os.path.expanduser(\"~\"),\"Desktop\",\"projects\",\"GlacierView\", \"data\")\n",
    "labels_path = os.path.join(gv_data_dir, \"manual_annotations\",\"labels.csv\")\n",
    "training_data_dir = os.path.join(gv_data_dir, \"ee_data\",\"training\",\"UTM\")"
   ]
  },
  {
   "cell_type": "code",
   "execution_count": 25,
   "id": "406c305c",
   "metadata": {},
   "outputs": [
    {
     "data": {
      "text/plain": [
       "'/Users/mattw/Desktop/projects/GlacierView/data/ee_data/training/UTM'"
      ]
     },
     "execution_count": 25,
     "metadata": {},
     "output_type": "execute_result"
    }
   ],
   "source": [
    "training_data_dir"
   ]
  },
  {
   "cell_type": "code",
   "execution_count": 26,
   "id": "3f949a25",
   "metadata": {},
   "outputs": [],
   "source": [
    "df = pd.read_csv(labels_path)"
   ]
  },
  {
   "cell_type": "code",
   "execution_count": 5,
   "id": "73e6bc4b",
   "metadata": {},
   "outputs": [],
   "source": [
    "df['glims_id'] = [file_name.split(\"_\")[0] for file_name in df.glacier_pk]"
   ]
  },
  {
   "cell_type": "code",
   "execution_count": 6,
   "id": "2fd9eacc",
   "metadata": {},
   "outputs": [],
   "source": [
    "rasters = []\n",
    "for i in range(len(df)):\n",
    "    glims_id_and_file_name = os.path.join(df.glims_id[i],df.glacier_pk[i])\n",
    "    image_path = os.path.join(training_data_dir, glims_id_and_file_name)\n",
    "    with rasterio.open(image_path, \"r+\") as src:\n",
    "        src.nodata = 0\n",
    "        rasters.append(src.read())\n",
    "rasters = [np.rollaxis(raster,0,3) for raster in rasters]\n",
    "rasters = [np.where(raster < 0, 0, raster) for raster in rasters]"
   ]
  },
  {
   "cell_type": "code",
   "execution_count": 7,
   "id": "a79ac371",
   "metadata": {},
   "outputs": [],
   "source": [
    "stackable_rasters = []\n",
    "bands_to_keep = constants.l5_band_dict.keys()\n",
    "l7_bands_to_keep = list(map(constants.l7_band_dict.get, bands_to_keep))\n",
    "l8_bands_to_keep = list(map(constants.l8_band_dict.get, bands_to_keep))\n",
    "n_bands_to_keep = len(bands_to_keep)\n",
    "for raster in rasters:\n",
    "    n_bands = raster.shape[2]\n",
    "    if n_bands == 8:\n",
    "        stackable_rasters.append(raster)\n",
    "        \n",
    "    if n_bands == 10:\n",
    "        stackable_rasters.append(raster[:,:,l7_bands_to_keep])\n",
    "        \n",
    "    if n_bands == 12:\n",
    "        stackable_rasters.append(raster[:,:,l8_bands_to_keep])"
   ]
  },
  {
   "cell_type": "code",
   "execution_count": 8,
   "id": "2becb85f",
   "metadata": {},
   "outputs": [],
   "source": [
    "reshaped_rasters = []\n",
    "HEIGHT = 128\n",
    "WIDTH = 128\n",
    "for raster in stackable_rasters:\n",
    "    reshaped_rasters.append(cv2.resize(raster, dsize = (128,128), interpolation=cv2.INTER_LINEAR))"
   ]
  },
  {
   "cell_type": "code",
   "execution_count": 9,
   "id": "80e63bde",
   "metadata": {},
   "outputs": [],
   "source": [
    "normalized_rasters = []\n",
    "for raster in reshaped_rasters:\n",
    "    n_bands = raster.shape[2]\n",
    "    raster_bands = []\n",
    "    for i in range(n_bands):\n",
    "        data = raster[:,:,i]\n",
    "        min_val = data.min()\n",
    "        max_val = data.max()\n",
    "        if min_val == max_val:\n",
    "            raster_bands.append(data-min_val)\n",
    "        else:\n",
    "            raster_bands.append((data-min_val)/(max_val-min_val))\n",
    "    stacked = np.stack(raster_bands)\n",
    "    stacked = np.rollaxis(stacked, 0,3)\n",
    "    normalized_rasters.append(stacked)\n"
   ]
  },
  {
   "cell_type": "code",
   "execution_count": 19,
   "id": "a210876b",
   "metadata": {},
   "outputs": [],
   "source": [
    "X = np.stack(normalized_rasters)\n",
    "y = np.array(df.label)\n",
    "y = np.where(y>7, 1, 0)"
   ]
  },
  {
   "cell_type": "code",
   "execution_count": 30,
   "id": "841844d6",
   "metadata": {},
   "outputs": [
    {
     "data": {
      "text/plain": [
       "0    4.17757\n",
       "1    1.00000\n",
       "dtype: float64"
      ]
     },
     "execution_count": 30,
     "metadata": {},
     "output_type": "execute_result"
    }
   ],
   "source": [
    "pd.value_counts(y)/min(pd.value_counts(y))"
   ]
  },
  {
   "cell_type": "code",
   "execution_count": 21,
   "id": "22964c26",
   "metadata": {},
   "outputs": [],
   "source": [
    "X_train, X_test, y_train, y_test = train_test_split(X, y, test_size=0.33)\n",
    "training_data = list(zip(X_train,y_train))\n",
    "test_data = list(zip(X_test, y_test))"
   ]
  },
  {
   "cell_type": "code",
   "execution_count": 22,
   "id": "33d8b940",
   "metadata": {},
   "outputs": [],
   "source": [
    "with open('training_data.pickle', 'wb') as handle:\n",
    "    pickle.dump(training_data, handle)\n",
    "\n",
    "with open('test_data.pickle', 'wb') as handle:\n",
    "    pickle.dump(test_data, handle)"
   ]
  },
  {
   "cell_type": "code",
   "execution_count": null,
   "id": "ee2c05ff",
   "metadata": {},
   "outputs": [],
   "source": []
  }
 ],
 "metadata": {
  "kernelspec": {
   "display_name": "Python 3",
   "language": "python",
   "name": "python3"
  },
  "language_info": {
   "codemirror_mode": {
    "name": "ipython",
    "version": 3
   },
   "file_extension": ".py",
   "mimetype": "text/x-python",
   "name": "python",
   "nbconvert_exporter": "python",
   "pygments_lexer": "ipython3",
   "version": "3.8.12"
  }
 },
 "nbformat": 4,
 "nbformat_minor": 5
}
