{
 "cells": [
  {
   "cell_type": "code",
   "execution_count": 1,
   "id": "c77cf1d7",
   "metadata": {},
   "outputs": [],
   "source": [
    "import rasterio\n",
    "import matplotlib.pyplot as plt\n",
    "import os\n",
    "import pandas as pd\n",
    "from IPython.display import clear_output"
   ]
  },
  {
   "cell_type": "code",
   "execution_count": 2,
   "id": "aeff705f",
   "metadata": {},
   "outputs": [
    {
     "ename": "FileNotFoundError",
     "evalue": "[Errno 2] No such file or directory: '/Users/mattw/Desktop/projects/GlacierView/data/ee_data/training/UTM'",
     "output_type": "error",
     "traceback": [
      "\u001b[0;31m---------------------------------------------------------------------------\u001b[0m",
      "\u001b[0;31mFileNotFoundError\u001b[0m                         Traceback (most recent call last)",
      "Input \u001b[0;32mIn [2]\u001b[0m, in \u001b[0;36m<module>\u001b[0;34m\u001b[0m\n\u001b[1;32m      1\u001b[0m gv_data_dir \u001b[38;5;241m=\u001b[39m os\u001b[38;5;241m.\u001b[39mpath\u001b[38;5;241m.\u001b[39mjoin(\u001b[38;5;124m\"\u001b[39m\u001b[38;5;124m/\u001b[39m\u001b[38;5;124m\"\u001b[39m,\u001b[38;5;124m\"\u001b[39m\u001b[38;5;124mUsers\u001b[39m\u001b[38;5;124m\"\u001b[39m,\u001b[38;5;124m\"\u001b[39m\u001b[38;5;124mmattw\u001b[39m\u001b[38;5;124m\"\u001b[39m,\u001b[38;5;124m\"\u001b[39m\u001b[38;5;124mDesktop\u001b[39m\u001b[38;5;124m\"\u001b[39m,\u001b[38;5;124m\"\u001b[39m\u001b[38;5;124mprojects\u001b[39m\u001b[38;5;124m\"\u001b[39m,\u001b[38;5;124m\"\u001b[39m\u001b[38;5;124mGlacierView\u001b[39m\u001b[38;5;124m\"\u001b[39m,\u001b[38;5;124m\"\u001b[39m\u001b[38;5;124mdata\u001b[39m\u001b[38;5;124m\"\u001b[39m)\n\u001b[1;32m      2\u001b[0m training_images_to_label_dir \u001b[38;5;241m=\u001b[39m os\u001b[38;5;241m.\u001b[39mpath\u001b[38;5;241m.\u001b[39mjoin(gv_data_dir,\u001b[38;5;124m\"\u001b[39m\u001b[38;5;124mee_data\u001b[39m\u001b[38;5;124m\"\u001b[39m,\u001b[38;5;124m\"\u001b[39m\u001b[38;5;124mtraining\u001b[39m\u001b[38;5;124m\"\u001b[39m,\u001b[38;5;124m\"\u001b[39m\u001b[38;5;124mUTM\u001b[39m\u001b[38;5;124m\"\u001b[39m)\n\u001b[0;32m----> 3\u001b[0m folders \u001b[38;5;241m=\u001b[39m \u001b[43mos\u001b[49m\u001b[38;5;241;43m.\u001b[39;49m\u001b[43mlistdir\u001b[49m\u001b[43m(\u001b[49m\u001b[43mtraining_images_to_label_dir\u001b[49m\u001b[43m)\u001b[49m\n\u001b[1;32m      4\u001b[0m img_list \u001b[38;5;241m=\u001b[39m []\n\u001b[1;32m      5\u001b[0m folders \u001b[38;5;241m=\u001b[39m [folder \u001b[38;5;28;01mfor\u001b[39;00m folder \u001b[38;5;129;01min\u001b[39;00m folders \u001b[38;5;28;01mif\u001b[39;00m \u001b[38;5;28mlen\u001b[39m(folder)\u001b[38;5;241m>\u001b[39m\u001b[38;5;241m10\u001b[39m]\n",
      "\u001b[0;31mFileNotFoundError\u001b[0m: [Errno 2] No such file or directory: '/Users/mattw/Desktop/projects/GlacierView/data/ee_data/training/UTM'"
     ]
    }
   ],
   "source": [
    "gv_data_dir = os.path.join(\"/\",\"Users\",\"mattw\",\"Desktop\",\"projects\",\"GlacierView\",\"data\")\n",
    "training_images_to_label_dir = os.path.join(gv_data_dir,\"ee_data\",\"training\",\"UTM\")\n",
    "folders = os.listdir(training_images_to_label_dir)\n",
    "img_list = []\n",
    "folders = [folder for folder in folders if len(folder)>10]\n",
    "for folder in folders:\n",
    "    glacier_dir = os.path.join(training_images_to_label_dir, folder)\n",
    "    file_names = os.listdir(glacier_dir)\n",
    "    file_names = [file_name for file_name in file_names if file_name.split(\".\")[-1] == \"tif\"]\n",
    "    img_list.extend(file_names)\n",
    "image_file_name_set = set(img_list) "
   ]
  },
  {
   "cell_type": "code",
   "execution_count": null,
   "id": "ed00cd3f",
   "metadata": {},
   "outputs": [],
   "source": [
    "manual_annotation_dir = os.path.join(gv_data_dir, \"manual_annotations\")"
   ]
  },
  {
   "cell_type": "code",
   "execution_count": null,
   "id": "3e970594",
   "metadata": {},
   "outputs": [],
   "source": [
    "def create_labels(image_file_names_set):\n",
    "    \n",
    "    gv_data_dir = os.path.join(\"/\",\"Users\",\"mattw\",\"Desktop\",\"projects\",\"GlacierView\",\"data\")\n",
    "    training_images_dir = os.path.join(gv_data_dir,\"ee_data\",\"training\",\"UTM\")\n",
    "    manual_annotation_dir = os.path.join(gv_data_dir, \"manual_annotations\")\n",
    "   \n",
    "    old_df = pd.read_csv(os.path.join(manual_annotation_dir,\"labels.csv\"))\n",
    "    already_labeled = set(old_df.glacier_pk)\n",
    "    to_label = image_file_names_set - already_labeled\n",
    "    \n",
    "    labeled_file_names = []\n",
    "    labels = []\n",
    "    \n",
    "    \n",
    "    for file_name in to_label:\n",
    "        print(\"Please label 1-9 (poor quality -> great quality) \\n\")\n",
    "        folder = file_name.split(\"_\")[0]\n",
    "        image_path = os.path.join(training_images_dir,folder,file_name)\n",
    "        with rasterio.open(image_path) as src:\n",
    "            img = src.read()\n",
    "        \n",
    "        n_bands = img.shape[0]\n",
    "        print(file_name)\n",
    "        _, axs = plt.subplots(ncols=n_bands,figsize=(20,20))\n",
    "        for i in range(n_bands):\n",
    "            axs[i].imshow(img[i,:,:])\n",
    "        plt.show()\n",
    "        inp = input()\n",
    "        if inp == \"exit\":\n",
    "            break\n",
    "        \n",
    "        labeled_file_names.append(file_name)\n",
    "        labels.append(inp)\n",
    "        clear_output(wait=True)\n",
    "        \n",
    "    data = {'glacier_pk':labeled_file_names, 'label':labels}\n",
    "    df = pd.DataFrame(data)\n",
    "    print(f\"Old data length {len(old_df.glacier_pk)}\")\n",
    "    new_df = old_df.append(df)\n",
    "    print(f\"New data length {len(new_df.glacier_pk)}\")    \n",
    "    new_df.to_csv(os.path.join(manual_annotation_dir,\"labels.csv\"), index = False) \n",
    "    \n",
    "    print('\\nlabels.csv saved!')\n",
    "    return df"
   ]
  },
  {
   "cell_type": "code",
   "execution_count": 3,
   "id": "3ebc278a",
   "metadata": {},
   "outputs": [
    {
     "ename": "NameError",
     "evalue": "name 'create_labels' is not defined",
     "output_type": "error",
     "traceback": [
      "\u001b[0;31m---------------------------------------------------------------------------\u001b[0m",
      "\u001b[0;31mNameError\u001b[0m                                 Traceback (most recent call last)",
      "Input \u001b[0;32mIn [3]\u001b[0m, in \u001b[0;36m<module>\u001b[0;34m\u001b[0m\n\u001b[0;32m----> 1\u001b[0m \u001b[43mcreate_labels\u001b[49m(image_file_name_set)\n",
      "\u001b[0;31mNameError\u001b[0m: name 'create_labels' is not defined"
     ]
    }
   ],
   "source": [
    "create_labels(image_file_name_set)"
   ]
  },
  {
   "cell_type": "code",
   "execution_count": null,
   "id": "bcb479f1",
   "metadata": {},
   "outputs": [],
   "source": []
  }
 ],
 "metadata": {
  "kernelspec": {
   "display_name": "Python 3",
   "language": "python",
   "name": "python3"
  },
  "language_info": {
   "codemirror_mode": {
    "name": "ipython",
    "version": 3
   },
   "file_extension": ".py",
   "mimetype": "text/x-python",
   "name": "python",
   "nbconvert_exporter": "python",
   "pygments_lexer": "ipython3",
   "version": "3.8.12"
  }
 },
 "nbformat": 4,
 "nbformat_minor": 5
}
